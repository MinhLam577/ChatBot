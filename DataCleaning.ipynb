{
  "cells": [
    {
      "cell_type": "code",
      "execution_count": 1,
      "metadata": {
        "id": "pPJK8H-7bxz2"
      },
      "outputs": [],
      "source": [
        "import pandas as pd\n",
        "import numpy as np\n",
        "import matplotlib.pyplot as plt\n",
        "import seaborn as sns\n",
        "from sklearn.preprocessing import LabelEncoder\n",
        "from matplotlib.ticker import MultipleLocator\n",
        "%matplotlib inline"
      ]
    },
    {
      "cell_type": "code",
      "execution_count": 2,
      "metadata": {},
      "outputs": [],
      "source": [
        "laptop_data_path = \"data/csv/laptop_data.csv\""
      ]
    },
    {
      "cell_type": "code",
      "execution_count": 3,
      "metadata": {
        "id": "2sbLD-WidGV6"
      },
      "outputs": [],
      "source": [
        "df = pd.read_csv(laptop_data_path)\n",
        "df_uncleaned = pd.read_csv(laptop_data_path)\n",
        "df_cleaned = pd.read_csv(laptop_data_path)"
      ]
    },
    {
      "cell_type": "code",
      "execution_count": 4,
      "metadata": {
        "colab": {
          "base_uri": "https://localhost:8080/",
          "height": 310
        },
        "id": "L0xPCCc5VHHF",
        "outputId": "b2136844-f8bf-4c3a-dd85-940b88445525"
      },
      "outputs": [
        {
          "data": {
            "text/html": [
              "<div>\n",
              "<style scoped>\n",
              "    .dataframe tbody tr th:only-of-type {\n",
              "        vertical-align: middle;\n",
              "    }\n",
              "\n",
              "    .dataframe tbody tr th {\n",
              "        vertical-align: top;\n",
              "    }\n",
              "\n",
              "    .dataframe thead th {\n",
              "        text-align: right;\n",
              "    }\n",
              "</style>\n",
              "<table border=\"1\" class=\"dataframe\">\n",
              "  <thead>\n",
              "    <tr style=\"text-align: right;\">\n",
              "      <th></th>\n",
              "      <th>Unnamed: 0</th>\n",
              "      <th>Company</th>\n",
              "      <th>TypeName</th>\n",
              "      <th>Inches</th>\n",
              "      <th>ScreenResolution</th>\n",
              "      <th>Cpu</th>\n",
              "      <th>Ram</th>\n",
              "      <th>Memory</th>\n",
              "      <th>Gpu</th>\n",
              "      <th>OpSys</th>\n",
              "      <th>Weight</th>\n",
              "      <th>Price</th>\n",
              "    </tr>\n",
              "  </thead>\n",
              "  <tbody>\n",
              "    <tr>\n",
              "      <th>0</th>\n",
              "      <td>0</td>\n",
              "      <td>Apple</td>\n",
              "      <td>Ultrabook</td>\n",
              "      <td>13.3</td>\n",
              "      <td>IPS Panel Retina Display 2560x1600</td>\n",
              "      <td>Intel Core i5 2.3GHz</td>\n",
              "      <td>8GB</td>\n",
              "      <td>128GB SSD</td>\n",
              "      <td>Intel Iris Plus Graphics 640</td>\n",
              "      <td>macOS</td>\n",
              "      <td>1.37kg</td>\n",
              "      <td>71378.6832</td>\n",
              "    </tr>\n",
              "    <tr>\n",
              "      <th>1</th>\n",
              "      <td>1</td>\n",
              "      <td>Apple</td>\n",
              "      <td>Ultrabook</td>\n",
              "      <td>13.3</td>\n",
              "      <td>1440x900</td>\n",
              "      <td>Intel Core i5 1.8GHz</td>\n",
              "      <td>8GB</td>\n",
              "      <td>128GB Flash Storage</td>\n",
              "      <td>Intel HD Graphics 6000</td>\n",
              "      <td>macOS</td>\n",
              "      <td>1.34kg</td>\n",
              "      <td>47895.5232</td>\n",
              "    </tr>\n",
              "    <tr>\n",
              "      <th>2</th>\n",
              "      <td>2</td>\n",
              "      <td>HP</td>\n",
              "      <td>Notebook</td>\n",
              "      <td>15.6</td>\n",
              "      <td>Full HD 1920x1080</td>\n",
              "      <td>Intel Core i5 7200U 2.5GHz</td>\n",
              "      <td>8GB</td>\n",
              "      <td>256GB SSD</td>\n",
              "      <td>Intel HD Graphics 620</td>\n",
              "      <td>No OS</td>\n",
              "      <td>1.86kg</td>\n",
              "      <td>30636.0000</td>\n",
              "    </tr>\n",
              "    <tr>\n",
              "      <th>3</th>\n",
              "      <td>3</td>\n",
              "      <td>Apple</td>\n",
              "      <td>Ultrabook</td>\n",
              "      <td>15.4</td>\n",
              "      <td>IPS Panel Retina Display 2880x1800</td>\n",
              "      <td>Intel Core i7 2.7GHz</td>\n",
              "      <td>16GB</td>\n",
              "      <td>512GB SSD</td>\n",
              "      <td>AMD Radeon Pro 455</td>\n",
              "      <td>macOS</td>\n",
              "      <td>1.83kg</td>\n",
              "      <td>135195.3360</td>\n",
              "    </tr>\n",
              "    <tr>\n",
              "      <th>4</th>\n",
              "      <td>4</td>\n",
              "      <td>Apple</td>\n",
              "      <td>Ultrabook</td>\n",
              "      <td>13.3</td>\n",
              "      <td>IPS Panel Retina Display 2560x1600</td>\n",
              "      <td>Intel Core i5 3.1GHz</td>\n",
              "      <td>8GB</td>\n",
              "      <td>256GB SSD</td>\n",
              "      <td>Intel Iris Plus Graphics 650</td>\n",
              "      <td>macOS</td>\n",
              "      <td>1.37kg</td>\n",
              "      <td>96095.8080</td>\n",
              "    </tr>\n",
              "  </tbody>\n",
              "</table>\n",
              "</div>"
            ],
            "text/plain": [
              "   Unnamed: 0 Company   TypeName  Inches                    ScreenResolution  \\\n",
              "0           0   Apple  Ultrabook    13.3  IPS Panel Retina Display 2560x1600   \n",
              "1           1   Apple  Ultrabook    13.3                            1440x900   \n",
              "2           2      HP   Notebook    15.6                   Full HD 1920x1080   \n",
              "3           3   Apple  Ultrabook    15.4  IPS Panel Retina Display 2880x1800   \n",
              "4           4   Apple  Ultrabook    13.3  IPS Panel Retina Display 2560x1600   \n",
              "\n",
              "                          Cpu   Ram               Memory  \\\n",
              "0        Intel Core i5 2.3GHz   8GB            128GB SSD   \n",
              "1        Intel Core i5 1.8GHz   8GB  128GB Flash Storage   \n",
              "2  Intel Core i5 7200U 2.5GHz   8GB            256GB SSD   \n",
              "3        Intel Core i7 2.7GHz  16GB            512GB SSD   \n",
              "4        Intel Core i5 3.1GHz   8GB            256GB SSD   \n",
              "\n",
              "                            Gpu  OpSys  Weight        Price  \n",
              "0  Intel Iris Plus Graphics 640  macOS  1.37kg   71378.6832  \n",
              "1        Intel HD Graphics 6000  macOS  1.34kg   47895.5232  \n",
              "2         Intel HD Graphics 620  No OS  1.86kg   30636.0000  \n",
              "3            AMD Radeon Pro 455  macOS  1.83kg  135195.3360  \n",
              "4  Intel Iris Plus Graphics 650  macOS  1.37kg   96095.8080  "
            ]
          },
          "execution_count": 4,
          "metadata": {},
          "output_type": "execute_result"
        }
      ],
      "source": [
        "df.head()"
      ]
    },
    {
      "cell_type": "code",
      "execution_count": 5,
      "metadata": {
        "id": "eRkcsku3BHDC"
      },
      "outputs": [],
      "source": [
        "df.rename(columns={'Unnamed: 0' : 'index'}, inplace=True)"
      ]
    },
    {
      "cell_type": "code",
      "execution_count": 6,
      "metadata": {
        "id": "WtrtERZaBhPa"
      },
      "outputs": [],
      "source": [
        "df.set_index('index', inplace=True)"
      ]
    },
    {
      "cell_type": "code",
      "execution_count": 7,
      "metadata": {
        "colab": {
          "base_uri": "https://localhost:8080/",
          "height": 628
        },
        "id": "kZQpL-0OAry9",
        "outputId": "7b02d1e8-b648-4a18-fc9c-47ad5e80ffd2"
      },
      "outputs": [
        {
          "data": {
            "text/html": [
              "<div>\n",
              "<style scoped>\n",
              "    .dataframe tbody tr th:only-of-type {\n",
              "        vertical-align: middle;\n",
              "    }\n",
              "\n",
              "    .dataframe tbody tr th {\n",
              "        vertical-align: top;\n",
              "    }\n",
              "\n",
              "    .dataframe thead th {\n",
              "        text-align: right;\n",
              "    }\n",
              "</style>\n",
              "<table border=\"1\" class=\"dataframe\">\n",
              "  <thead>\n",
              "    <tr style=\"text-align: right;\">\n",
              "      <th></th>\n",
              "      <th>Company</th>\n",
              "      <th>TypeName</th>\n",
              "      <th>Inches</th>\n",
              "      <th>ScreenResolution</th>\n",
              "      <th>Cpu</th>\n",
              "      <th>Ram</th>\n",
              "      <th>Memory</th>\n",
              "      <th>Gpu</th>\n",
              "      <th>OpSys</th>\n",
              "      <th>Weight</th>\n",
              "      <th>Price</th>\n",
              "    </tr>\n",
              "    <tr>\n",
              "      <th>index</th>\n",
              "      <th></th>\n",
              "      <th></th>\n",
              "      <th></th>\n",
              "      <th></th>\n",
              "      <th></th>\n",
              "      <th></th>\n",
              "      <th></th>\n",
              "      <th></th>\n",
              "      <th></th>\n",
              "      <th></th>\n",
              "      <th></th>\n",
              "    </tr>\n",
              "  </thead>\n",
              "  <tbody>\n",
              "    <tr>\n",
              "      <th>0</th>\n",
              "      <td>Apple</td>\n",
              "      <td>Ultrabook</td>\n",
              "      <td>13.3</td>\n",
              "      <td>IPS Panel Retina Display 2560x1600</td>\n",
              "      <td>Intel Core i5 2.3GHz</td>\n",
              "      <td>8GB</td>\n",
              "      <td>128GB SSD</td>\n",
              "      <td>Intel Iris Plus Graphics 640</td>\n",
              "      <td>macOS</td>\n",
              "      <td>1.37kg</td>\n",
              "      <td>71378.6832</td>\n",
              "    </tr>\n",
              "    <tr>\n",
              "      <th>1</th>\n",
              "      <td>Apple</td>\n",
              "      <td>Ultrabook</td>\n",
              "      <td>13.3</td>\n",
              "      <td>1440x900</td>\n",
              "      <td>Intel Core i5 1.8GHz</td>\n",
              "      <td>8GB</td>\n",
              "      <td>128GB Flash Storage</td>\n",
              "      <td>Intel HD Graphics 6000</td>\n",
              "      <td>macOS</td>\n",
              "      <td>1.34kg</td>\n",
              "      <td>47895.5232</td>\n",
              "    </tr>\n",
              "    <tr>\n",
              "      <th>2</th>\n",
              "      <td>HP</td>\n",
              "      <td>Notebook</td>\n",
              "      <td>15.6</td>\n",
              "      <td>Full HD 1920x1080</td>\n",
              "      <td>Intel Core i5 7200U 2.5GHz</td>\n",
              "      <td>8GB</td>\n",
              "      <td>256GB SSD</td>\n",
              "      <td>Intel HD Graphics 620</td>\n",
              "      <td>No OS</td>\n",
              "      <td>1.86kg</td>\n",
              "      <td>30636.0000</td>\n",
              "    </tr>\n",
              "    <tr>\n",
              "      <th>3</th>\n",
              "      <td>Apple</td>\n",
              "      <td>Ultrabook</td>\n",
              "      <td>15.4</td>\n",
              "      <td>IPS Panel Retina Display 2880x1800</td>\n",
              "      <td>Intel Core i7 2.7GHz</td>\n",
              "      <td>16GB</td>\n",
              "      <td>512GB SSD</td>\n",
              "      <td>AMD Radeon Pro 455</td>\n",
              "      <td>macOS</td>\n",
              "      <td>1.83kg</td>\n",
              "      <td>135195.3360</td>\n",
              "    </tr>\n",
              "    <tr>\n",
              "      <th>4</th>\n",
              "      <td>Apple</td>\n",
              "      <td>Ultrabook</td>\n",
              "      <td>13.3</td>\n",
              "      <td>IPS Panel Retina Display 2560x1600</td>\n",
              "      <td>Intel Core i5 3.1GHz</td>\n",
              "      <td>8GB</td>\n",
              "      <td>256GB SSD</td>\n",
              "      <td>Intel Iris Plus Graphics 650</td>\n",
              "      <td>macOS</td>\n",
              "      <td>1.37kg</td>\n",
              "      <td>96095.8080</td>\n",
              "    </tr>\n",
              "    <tr>\n",
              "      <th>...</th>\n",
              "      <td>...</td>\n",
              "      <td>...</td>\n",
              "      <td>...</td>\n",
              "      <td>...</td>\n",
              "      <td>...</td>\n",
              "      <td>...</td>\n",
              "      <td>...</td>\n",
              "      <td>...</td>\n",
              "      <td>...</td>\n",
              "      <td>...</td>\n",
              "      <td>...</td>\n",
              "    </tr>\n",
              "    <tr>\n",
              "      <th>1298</th>\n",
              "      <td>Lenovo</td>\n",
              "      <td>2 in 1 Convertible</td>\n",
              "      <td>14.0</td>\n",
              "      <td>IPS Panel Full HD / Touchscreen 1920x1080</td>\n",
              "      <td>Intel Core i7 6500U 2.5GHz</td>\n",
              "      <td>4GB</td>\n",
              "      <td>128GB SSD</td>\n",
              "      <td>Intel HD Graphics 520</td>\n",
              "      <td>Windows 10</td>\n",
              "      <td>1.8kg</td>\n",
              "      <td>33992.6400</td>\n",
              "    </tr>\n",
              "    <tr>\n",
              "      <th>1299</th>\n",
              "      <td>Lenovo</td>\n",
              "      <td>2 in 1 Convertible</td>\n",
              "      <td>13.3</td>\n",
              "      <td>IPS Panel Quad HD+ / Touchscreen 3200x1800</td>\n",
              "      <td>Intel Core i7 6500U 2.5GHz</td>\n",
              "      <td>16GB</td>\n",
              "      <td>512GB SSD</td>\n",
              "      <td>Intel HD Graphics 520</td>\n",
              "      <td>Windows 10</td>\n",
              "      <td>1.3kg</td>\n",
              "      <td>79866.7200</td>\n",
              "    </tr>\n",
              "    <tr>\n",
              "      <th>1300</th>\n",
              "      <td>Lenovo</td>\n",
              "      <td>Notebook</td>\n",
              "      <td>14.0</td>\n",
              "      <td>1366x768</td>\n",
              "      <td>Intel Celeron Dual Core N3050 1.6GHz</td>\n",
              "      <td>2GB</td>\n",
              "      <td>64GB Flash Storage</td>\n",
              "      <td>Intel HD Graphics</td>\n",
              "      <td>Windows 10</td>\n",
              "      <td>1.5kg</td>\n",
              "      <td>12201.1200</td>\n",
              "    </tr>\n",
              "    <tr>\n",
              "      <th>1301</th>\n",
              "      <td>HP</td>\n",
              "      <td>Notebook</td>\n",
              "      <td>15.6</td>\n",
              "      <td>1366x768</td>\n",
              "      <td>Intel Core i7 6500U 2.5GHz</td>\n",
              "      <td>6GB</td>\n",
              "      <td>1TB HDD</td>\n",
              "      <td>AMD Radeon R5 M330</td>\n",
              "      <td>Windows 10</td>\n",
              "      <td>2.19kg</td>\n",
              "      <td>40705.9200</td>\n",
              "    </tr>\n",
              "    <tr>\n",
              "      <th>1302</th>\n",
              "      <td>Asus</td>\n",
              "      <td>Notebook</td>\n",
              "      <td>15.6</td>\n",
              "      <td>1366x768</td>\n",
              "      <td>Intel Celeron Dual Core N3050 1.6GHz</td>\n",
              "      <td>4GB</td>\n",
              "      <td>500GB HDD</td>\n",
              "      <td>Intel HD Graphics</td>\n",
              "      <td>Windows 10</td>\n",
              "      <td>2.2kg</td>\n",
              "      <td>19660.3200</td>\n",
              "    </tr>\n",
              "  </tbody>\n",
              "</table>\n",
              "<p>1303 rows × 11 columns</p>\n",
              "</div>"
            ],
            "text/plain": [
              "      Company            TypeName  Inches  \\\n",
              "index                                       \n",
              "0       Apple           Ultrabook    13.3   \n",
              "1       Apple           Ultrabook    13.3   \n",
              "2          HP            Notebook    15.6   \n",
              "3       Apple           Ultrabook    15.4   \n",
              "4       Apple           Ultrabook    13.3   \n",
              "...       ...                 ...     ...   \n",
              "1298   Lenovo  2 in 1 Convertible    14.0   \n",
              "1299   Lenovo  2 in 1 Convertible    13.3   \n",
              "1300   Lenovo            Notebook    14.0   \n",
              "1301       HP            Notebook    15.6   \n",
              "1302     Asus            Notebook    15.6   \n",
              "\n",
              "                                 ScreenResolution  \\\n",
              "index                                               \n",
              "0              IPS Panel Retina Display 2560x1600   \n",
              "1                                        1440x900   \n",
              "2                               Full HD 1920x1080   \n",
              "3              IPS Panel Retina Display 2880x1800   \n",
              "4              IPS Panel Retina Display 2560x1600   \n",
              "...                                           ...   \n",
              "1298    IPS Panel Full HD / Touchscreen 1920x1080   \n",
              "1299   IPS Panel Quad HD+ / Touchscreen 3200x1800   \n",
              "1300                                     1366x768   \n",
              "1301                                     1366x768   \n",
              "1302                                     1366x768   \n",
              "\n",
              "                                        Cpu   Ram               Memory  \\\n",
              "index                                                                    \n",
              "0                      Intel Core i5 2.3GHz   8GB            128GB SSD   \n",
              "1                      Intel Core i5 1.8GHz   8GB  128GB Flash Storage   \n",
              "2                Intel Core i5 7200U 2.5GHz   8GB            256GB SSD   \n",
              "3                      Intel Core i7 2.7GHz  16GB            512GB SSD   \n",
              "4                      Intel Core i5 3.1GHz   8GB            256GB SSD   \n",
              "...                                     ...   ...                  ...   \n",
              "1298             Intel Core i7 6500U 2.5GHz   4GB            128GB SSD   \n",
              "1299             Intel Core i7 6500U 2.5GHz  16GB            512GB SSD   \n",
              "1300   Intel Celeron Dual Core N3050 1.6GHz   2GB   64GB Flash Storage   \n",
              "1301             Intel Core i7 6500U 2.5GHz   6GB              1TB HDD   \n",
              "1302   Intel Celeron Dual Core N3050 1.6GHz   4GB            500GB HDD   \n",
              "\n",
              "                                Gpu       OpSys  Weight        Price  \n",
              "index                                                                 \n",
              "0      Intel Iris Plus Graphics 640       macOS  1.37kg   71378.6832  \n",
              "1            Intel HD Graphics 6000       macOS  1.34kg   47895.5232  \n",
              "2             Intel HD Graphics 620       No OS  1.86kg   30636.0000  \n",
              "3                AMD Radeon Pro 455       macOS  1.83kg  135195.3360  \n",
              "4      Intel Iris Plus Graphics 650       macOS  1.37kg   96095.8080  \n",
              "...                             ...         ...     ...          ...  \n",
              "1298          Intel HD Graphics 520  Windows 10   1.8kg   33992.6400  \n",
              "1299          Intel HD Graphics 520  Windows 10   1.3kg   79866.7200  \n",
              "1300              Intel HD Graphics  Windows 10   1.5kg   12201.1200  \n",
              "1301             AMD Radeon R5 M330  Windows 10  2.19kg   40705.9200  \n",
              "1302              Intel HD Graphics  Windows 10   2.2kg   19660.3200  \n",
              "\n",
              "[1303 rows x 11 columns]"
            ]
          },
          "execution_count": 7,
          "metadata": {},
          "output_type": "execute_result"
        }
      ],
      "source": [
        "df"
      ]
    },
    {
      "cell_type": "code",
      "execution_count": 8,
      "metadata": {
        "colab": {
          "base_uri": "https://localhost:8080/"
        },
        "id": "pN6g3zJSekwO",
        "outputId": "841cfe26-52ce-42e4-828a-64ef62b33b99"
      },
      "outputs": [
        {
          "data": {
            "text/plain": [
              "(1303, 11)"
            ]
          },
          "execution_count": 8,
          "metadata": {},
          "output_type": "execute_result"
        }
      ],
      "source": [
        "df.shape"
      ]
    },
    {
      "cell_type": "code",
      "execution_count": 9,
      "metadata": {
        "colab": {
          "base_uri": "https://localhost:8080/"
        },
        "id": "cbO_XlceeuoX",
        "outputId": "7f4d4cb5-76ee-415d-8543-7e03c134f9ad"
      },
      "outputs": [
        {
          "data": {
            "text/plain": [
              "Index(['Company', 'TypeName', 'Inches', 'ScreenResolution', 'Cpu', 'Ram',\n",
              "       'Memory', 'Gpu', 'OpSys', 'Weight', 'Price'],\n",
              "      dtype='object')"
            ]
          },
          "execution_count": 9,
          "metadata": {},
          "output_type": "execute_result"
        }
      ],
      "source": [
        "df.columns"
      ]
    },
    {
      "cell_type": "code",
      "execution_count": 10,
      "metadata": {
        "colab": {
          "base_uri": "https://localhost:8080/"
        },
        "id": "ndWjECXPfwjr",
        "outputId": "d8ecf6ce-cfaf-4482-dd1f-b991402db599"
      },
      "outputs": [
        {
          "data": {
            "text/plain": [
              "Company             0\n",
              "TypeName            0\n",
              "Inches              0\n",
              "ScreenResolution    0\n",
              "Cpu                 0\n",
              "Ram                 0\n",
              "Memory              0\n",
              "Gpu                 0\n",
              "OpSys               0\n",
              "Weight              0\n",
              "Price               0\n",
              "dtype: int64"
            ]
          },
          "execution_count": 10,
          "metadata": {},
          "output_type": "execute_result"
        }
      ],
      "source": [
        "df.isnull().sum()"
      ]
    },
    {
      "cell_type": "markdown",
      "metadata": {
        "id": "t1xpI5NsXOA1"
      },
      "source": [
        "#**CLEANING RESOLUTION**"
      ]
    },
    {
      "cell_type": "code",
      "execution_count": 11,
      "metadata": {
        "id": "dvtZSkhdDBq3"
      },
      "outputs": [],
      "source": [
        "import re"
      ]
    },
    {
      "cell_type": "code",
      "execution_count": 12,
      "metadata": {
        "id": "RXWeULgLEOHy"
      },
      "outputs": [],
      "source": [
        "def extract_resolution(resolution):\n",
        "    match = re.search(r\"\\d+x\\d+\", resolution, re.IGNORECASE)\n",
        "    return match.group() if match else None"
      ]
    },
    {
      "cell_type": "code",
      "execution_count": 13,
      "metadata": {
        "id": "i44IFKGwDqbS"
      },
      "outputs": [],
      "source": [
        "df[\"ScreenResolution\"] = df[\"ScreenResolution\"].apply(extract_resolution)"
      ]
    },
    {
      "cell_type": "code",
      "execution_count": 14,
      "metadata": {
        "colab": {
          "base_uri": "https://localhost:8080/"
        },
        "id": "Gabmp6JvNllT",
        "outputId": "f17812c0-c340-48f8-a948-7702e52ee10a"
      },
      "outputs": [
        {
          "data": {
            "text/plain": [
              "0"
            ]
          },
          "execution_count": 14,
          "metadata": {},
          "output_type": "execute_result"
        }
      ],
      "source": [
        "df[\"ScreenResolution\"].isnull().sum()"
      ]
    },
    {
      "cell_type": "code",
      "execution_count": 15,
      "metadata": {
        "colab": {
          "base_uri": "https://localhost:8080/",
          "height": 0
        },
        "id": "u7I0WWghFTnd",
        "outputId": "6023c1d2-4f01-4b1c-9bb6-074b9f4f22b7"
      },
      "outputs": [
        {
          "data": {
            "text/html": [
              "<div>\n",
              "<style scoped>\n",
              "    .dataframe tbody tr th:only-of-type {\n",
              "        vertical-align: middle;\n",
              "    }\n",
              "\n",
              "    .dataframe tbody tr th {\n",
              "        vertical-align: top;\n",
              "    }\n",
              "\n",
              "    .dataframe thead th {\n",
              "        text-align: right;\n",
              "    }\n",
              "</style>\n",
              "<table border=\"1\" class=\"dataframe\">\n",
              "  <thead>\n",
              "    <tr style=\"text-align: right;\">\n",
              "      <th></th>\n",
              "      <th>ScreenResolution Unclean</th>\n",
              "      <th>ScreenResolution Clean</th>\n",
              "    </tr>\n",
              "  </thead>\n",
              "  <tbody>\n",
              "    <tr>\n",
              "      <th>0</th>\n",
              "      <td>IPS Panel Retina Display 2560x1600</td>\n",
              "      <td>2560x1600</td>\n",
              "    </tr>\n",
              "    <tr>\n",
              "      <th>1</th>\n",
              "      <td>1440x900</td>\n",
              "      <td>1440x900</td>\n",
              "    </tr>\n",
              "    <tr>\n",
              "      <th>2</th>\n",
              "      <td>Full HD 1920x1080</td>\n",
              "      <td>1920x1080</td>\n",
              "    </tr>\n",
              "    <tr>\n",
              "      <th>3</th>\n",
              "      <td>IPS Panel Retina Display 2880x1800</td>\n",
              "      <td>2880x1800</td>\n",
              "    </tr>\n",
              "    <tr>\n",
              "      <th>4</th>\n",
              "      <td>IPS Panel Retina Display 2560x1600</td>\n",
              "      <td>2560x1600</td>\n",
              "    </tr>\n",
              "  </tbody>\n",
              "</table>\n",
              "</div>"
            ],
            "text/plain": [
              "             ScreenResolution Unclean ScreenResolution Clean\n",
              "0  IPS Panel Retina Display 2560x1600              2560x1600\n",
              "1                            1440x900               1440x900\n",
              "2                   Full HD 1920x1080              1920x1080\n",
              "3  IPS Panel Retina Display 2880x1800              2880x1800\n",
              "4  IPS Panel Retina Display 2560x1600              2560x1600"
            ]
          },
          "execution_count": 15,
          "metadata": {},
          "output_type": "execute_result"
        }
      ],
      "source": [
        "concatenate_ScreenResolution = pd.concat([df_uncleaned['ScreenResolution'], df['ScreenResolution']], axis=1)\n",
        "concatenate_ScreenResolution.columns = [\"ScreenResolution Unclean\", \"ScreenResolution Clean\"]\n",
        "concatenate_ScreenResolution.head(5)"
      ]
    },
    {
      "cell_type": "markdown",
      "metadata": {
        "id": "_l_IH1TLubx1"
      },
      "source": [
        "#**CLEANING COMPANY**"
      ]
    },
    {
      "cell_type": "code",
      "execution_count": 16,
      "metadata": {
        "id": "kAt72w6OubCq"
      },
      "outputs": [],
      "source": [
        "df['Company'] = df['Company'].str.upper()"
      ]
    },
    {
      "cell_type": "code",
      "execution_count": 17,
      "metadata": {
        "colab": {
          "base_uri": "https://localhost:8080/"
        },
        "id": "ilR9RJoNN6AV",
        "outputId": "f4285e89-831d-4db1-ab4d-8f3bef2473d4"
      },
      "outputs": [
        {
          "data": {
            "text/plain": [
              "index\n",
              "0    APPLE\n",
              "1    APPLE\n",
              "2       HP\n",
              "3    APPLE\n",
              "4    APPLE\n",
              "Name: Company, dtype: object"
            ]
          },
          "execution_count": 17,
          "metadata": {},
          "output_type": "execute_result"
        }
      ],
      "source": [
        "df[\"Company\"].head()"
      ]
    },
    {
      "cell_type": "markdown",
      "metadata": {
        "id": "epA60IHuOCof"
      },
      "source": [
        "#**CLEANING typename**"
      ]
    },
    {
      "cell_type": "code",
      "execution_count": 18,
      "metadata": {
        "id": "-Xnz8anNOEuD"
      },
      "outputs": [],
      "source": [
        "df['TypeName'] = df['TypeName'].str.upper()"
      ]
    },
    {
      "cell_type": "code",
      "execution_count": 19,
      "metadata": {
        "colab": {
          "base_uri": "https://localhost:8080/"
        },
        "id": "DihjGg4YOKps",
        "outputId": "b45bad20-e77f-48d7-86df-1c1385bcba78"
      },
      "outputs": [
        {
          "data": {
            "text/plain": [
              "index\n",
              "0    ULTRABOOK\n",
              "1    ULTRABOOK\n",
              "2     NOTEBOOK\n",
              "3    ULTRABOOK\n",
              "4    ULTRABOOK\n",
              "Name: TypeName, dtype: object"
            ]
          },
          "execution_count": 19,
          "metadata": {},
          "output_type": "execute_result"
        }
      ],
      "source": [
        "df[\"TypeName\"].head()"
      ]
    },
    {
      "cell_type": "markdown",
      "metadata": {
        "id": "ib1NumzMOphb"
      },
      "source": [
        "#**CLEANING CPU**"
      ]
    },
    {
      "cell_type": "code",
      "execution_count": 20,
      "metadata": {
        "colab": {
          "base_uri": "https://localhost:8080/"
        },
        "id": "ihYCJxbqOtoG",
        "outputId": "1cfc2eb9-888a-4450-c99e-45dc7ceaed35"
      },
      "outputs": [
        {
          "data": {
            "text/plain": [
              "index\n",
              "0                       Intel Core i5 2.3GHz\n",
              "1                       Intel Core i5 1.8GHz\n",
              "2                 Intel Core i5 7200U 2.5GHz\n",
              "3                       Intel Core i7 2.7GHz\n",
              "4                       Intel Core i5 3.1GHz\n",
              "                        ...                 \n",
              "1298              Intel Core i7 6500U 2.5GHz\n",
              "1299              Intel Core i7 6500U 2.5GHz\n",
              "1300    Intel Celeron Dual Core N3050 1.6GHz\n",
              "1301              Intel Core i7 6500U 2.5GHz\n",
              "1302    Intel Celeron Dual Core N3050 1.6GHz\n",
              "Name: Cpu, Length: 1303, dtype: object"
            ]
          },
          "execution_count": 20,
          "metadata": {},
          "output_type": "execute_result"
        }
      ],
      "source": [
        "df[\"Cpu\"]"
      ]
    },
    {
      "cell_type": "code",
      "execution_count": 21,
      "metadata": {
        "id": "HCCjFnAJP5Uv"
      },
      "outputs": [],
      "source": [
        "def extract_cpu(str):\n",
        "  pattern = \"\\d+\\.\\d+GHz\"\n",
        "  res = re.search(pattern, str, re.IGNORECASE)\n",
        "  if res:\n",
        "    return res.group()\n",
        "  else:\n",
        "    pattern = \"\\d+GHz\"\n",
        "    res = re.search(pattern, str, re.IGNORECASE)\n",
        "    return res.group()\n",
        "  return None"
      ]
    },
    {
      "cell_type": "code",
      "execution_count": 22,
      "metadata": {
        "id": "aa5jdkxAPIdP"
      },
      "outputs": [],
      "source": [
        "df[\"Cpu\"] = df[\"Cpu\"].apply(extract_cpu)"
      ]
    },
    {
      "cell_type": "code",
      "execution_count": 23,
      "metadata": {
        "id": "9Bp7XWZ8OVpG"
      },
      "outputs": [],
      "source": [
        "df[\"Cpu\"] = df[\"Cpu\"].str.replace(\"GHz\", \"\")"
      ]
    },
    {
      "cell_type": "code",
      "execution_count": 24,
      "metadata": {
        "id": "iloTNq_6Or-Y"
      },
      "outputs": [],
      "source": [
        "df[\"Cpu\"] = df[\"Cpu\"].astype(\"float\")"
      ]
    },
    {
      "cell_type": "code",
      "execution_count": 25,
      "metadata": {
        "colab": {
          "base_uri": "https://localhost:8080/"
        },
        "id": "vPiahVPPPK-g",
        "outputId": "515fc54a-dc50-4272-c451-a2c59e1bf18c"
      },
      "outputs": [
        {
          "data": {
            "text/plain": [
              "0"
            ]
          },
          "execution_count": 25,
          "metadata": {},
          "output_type": "execute_result"
        }
      ],
      "source": [
        "df[\"Cpu\"].isnull().sum()"
      ]
    },
    {
      "cell_type": "code",
      "execution_count": 27,
      "metadata": {
        "colab": {
          "base_uri": "https://localhost:8080/",
          "height": 363
        },
        "id": "ljhb3AiaTiRn",
        "outputId": "1cc0c876-7a22-4288-c9bd-20df39b0e723"
      },
      "outputs": [
        {
          "data": {
            "text/html": [
              "<div>\n",
              "<style scoped>\n",
              "    .dataframe tbody tr th:only-of-type {\n",
              "        vertical-align: middle;\n",
              "    }\n",
              "\n",
              "    .dataframe tbody tr th {\n",
              "        vertical-align: top;\n",
              "    }\n",
              "\n",
              "    .dataframe thead th {\n",
              "        text-align: right;\n",
              "    }\n",
              "</style>\n",
              "<table border=\"1\" class=\"dataframe\">\n",
              "  <thead>\n",
              "    <tr style=\"text-align: right;\">\n",
              "      <th></th>\n",
              "      <th>Cpu Unclean</th>\n",
              "      <th>Cpu Clean</th>\n",
              "    </tr>\n",
              "  </thead>\n",
              "  <tbody>\n",
              "    <tr>\n",
              "      <th>1298</th>\n",
              "      <td>Intel Core i7 6500U 2.5GHz</td>\n",
              "      <td>2.5</td>\n",
              "    </tr>\n",
              "    <tr>\n",
              "      <th>1299</th>\n",
              "      <td>Intel Core i7 6500U 2.5GHz</td>\n",
              "      <td>2.5</td>\n",
              "    </tr>\n",
              "    <tr>\n",
              "      <th>1300</th>\n",
              "      <td>Intel Celeron Dual Core N3050 1.6GHz</td>\n",
              "      <td>1.6</td>\n",
              "    </tr>\n",
              "    <tr>\n",
              "      <th>1301</th>\n",
              "      <td>Intel Core i7 6500U 2.5GHz</td>\n",
              "      <td>2.5</td>\n",
              "    </tr>\n",
              "    <tr>\n",
              "      <th>1302</th>\n",
              "      <td>Intel Celeron Dual Core N3050 1.6GHz</td>\n",
              "      <td>1.6</td>\n",
              "    </tr>\n",
              "  </tbody>\n",
              "</table>\n",
              "</div>"
            ],
            "text/plain": [
              "                               Cpu Unclean  Cpu Clean\n",
              "1298            Intel Core i7 6500U 2.5GHz        2.5\n",
              "1299            Intel Core i7 6500U 2.5GHz        2.5\n",
              "1300  Intel Celeron Dual Core N3050 1.6GHz        1.6\n",
              "1301            Intel Core i7 6500U 2.5GHz        2.5\n",
              "1302  Intel Celeron Dual Core N3050 1.6GHz        1.6"
            ]
          },
          "execution_count": 27,
          "metadata": {},
          "output_type": "execute_result"
        }
      ],
      "source": [
        "concatenate = pd.concat([df_uncleaned['Cpu'], df['Cpu']], axis=1)\n",
        "concatenate.columns = [\"Cpu Unclean\", \"Cpu Clean\"]\n",
        "concatenate.tail(5)"
      ]
    },
    {
      "cell_type": "markdown",
      "metadata": {
        "id": "Y2ErRguoadQK"
      },
      "source": [
        "#**CLEANING RAM**"
      ]
    },
    {
      "cell_type": "code",
      "execution_count": 28,
      "metadata": {
        "colab": {
          "base_uri": "https://localhost:8080/"
        },
        "id": "HFF-e03BahUm",
        "outputId": "ee2507b7-e66b-4e41-95c7-b8ea35b0ff3c"
      },
      "outputs": [
        {
          "data": {
            "text/plain": [
              "index\n",
              "0     8GB\n",
              "1     8GB\n",
              "2     8GB\n",
              "3    16GB\n",
              "4     8GB\n",
              "Name: Ram, dtype: object"
            ]
          },
          "execution_count": 28,
          "metadata": {},
          "output_type": "execute_result"
        }
      ],
      "source": [
        "df[\"Ram\"].head(5)"
      ]
    },
    {
      "cell_type": "code",
      "execution_count": 29,
      "metadata": {
        "id": "0pC9gjiaas0V"
      },
      "outputs": [],
      "source": [
        "df[\"Ram\"] = df[\"Ram\"].str.replace(\"GB\", \"\")"
      ]
    },
    {
      "cell_type": "code",
      "execution_count": 30,
      "metadata": {
        "id": "DKzbZj7QbdrU"
      },
      "outputs": [],
      "source": [
        "df[\"Ram\"] = df[\"Ram\"].astype(\"float\")"
      ]
    },
    {
      "cell_type": "code",
      "execution_count": 31,
      "metadata": {
        "colab": {
          "base_uri": "https://localhost:8080/",
          "height": 363
        },
        "id": "YDdW-DNvbhFh",
        "outputId": "b6d11ebe-3e4b-42ec-c861-fae83e684133"
      },
      "outputs": [
        {
          "data": {
            "text/html": [
              "<div>\n",
              "<style scoped>\n",
              "    .dataframe tbody tr th:only-of-type {\n",
              "        vertical-align: middle;\n",
              "    }\n",
              "\n",
              "    .dataframe tbody tr th {\n",
              "        vertical-align: top;\n",
              "    }\n",
              "\n",
              "    .dataframe thead th {\n",
              "        text-align: right;\n",
              "    }\n",
              "</style>\n",
              "<table border=\"1\" class=\"dataframe\">\n",
              "  <thead>\n",
              "    <tr style=\"text-align: right;\">\n",
              "      <th></th>\n",
              "      <th>Ram Unclean</th>\n",
              "      <th>Ram Clean</th>\n",
              "    </tr>\n",
              "  </thead>\n",
              "  <tbody>\n",
              "    <tr>\n",
              "      <th>1298</th>\n",
              "      <td>4GB</td>\n",
              "      <td>4.0</td>\n",
              "    </tr>\n",
              "    <tr>\n",
              "      <th>1299</th>\n",
              "      <td>16GB</td>\n",
              "      <td>16.0</td>\n",
              "    </tr>\n",
              "    <tr>\n",
              "      <th>1300</th>\n",
              "      <td>2GB</td>\n",
              "      <td>2.0</td>\n",
              "    </tr>\n",
              "    <tr>\n",
              "      <th>1301</th>\n",
              "      <td>6GB</td>\n",
              "      <td>6.0</td>\n",
              "    </tr>\n",
              "    <tr>\n",
              "      <th>1302</th>\n",
              "      <td>4GB</td>\n",
              "      <td>4.0</td>\n",
              "    </tr>\n",
              "  </tbody>\n",
              "</table>\n",
              "</div>"
            ],
            "text/plain": [
              "     Ram Unclean  Ram Clean\n",
              "1298         4GB        4.0\n",
              "1299        16GB       16.0\n",
              "1300         2GB        2.0\n",
              "1301         6GB        6.0\n",
              "1302         4GB        4.0"
            ]
          },
          "execution_count": 31,
          "metadata": {},
          "output_type": "execute_result"
        }
      ],
      "source": [
        "concatenate = pd.concat([df_uncleaned['Ram'], df['Ram']], axis=1)\n",
        "concatenate.columns = [\"Ram Unclean\", \"Ram Clean\"]\n",
        "concatenate.tail(5)"
      ]
    },
    {
      "cell_type": "markdown",
      "metadata": {
        "id": "qvn694rWNGfF"
      },
      "source": [
        "#**CLEANING Memory**"
      ]
    },
    {
      "cell_type": "code",
      "execution_count": 32,
      "metadata": {
        "colab": {
          "base_uri": "https://localhost:8080/"
        },
        "id": "u-6roFMvWgMl",
        "outputId": "acfb5315-85a9-4f99-f587-1c718f842cfa"
      },
      "outputs": [
        {
          "data": {
            "text/plain": [
              "index\n",
              "0              128GB SSD\n",
              "1    128GB Flash Storage\n",
              "2              256GB SSD\n",
              "3              512GB SSD\n",
              "4              256GB SSD\n",
              "Name: Memory, dtype: object"
            ]
          },
          "execution_count": 32,
          "metadata": {},
          "output_type": "execute_result"
        }
      ],
      "source": [
        "df[\"Memory\"].head()"
      ]
    },
    {
      "cell_type": "code",
      "execution_count": 33,
      "metadata": {
        "id": "si0cG0owWkDu"
      },
      "outputs": [],
      "source": [
        "def extract_Memory(Memory):\n",
        "    if \"+\" in Memory:\n",
        "      Memory = Memory.split(\"+\")\n",
        "      Memory = [t.strip() for t in Memory]\n",
        "      Memory = [extract_Memory(t) for t in Memory]\n",
        "      Memory = \"+\".join(Memory)\n",
        "      return Memory\n",
        "    if isinstance(Memory, str):\n",
        "        match = re.search(r'\\d+.\\d+(GB|TB)', Memory)\n",
        "        if match:\n",
        "            return match.group()\n",
        "        else:\n",
        "            match = re.search(r'\\d+(GB|TB)', Memory)\n",
        "            return match.group()\n",
        "    return None"
      ]
    },
    {
      "cell_type": "code",
      "execution_count": 34,
      "metadata": {
        "id": "9ggx3QlcWlKF"
      },
      "outputs": [],
      "source": [
        "def convert_Memory(Memory):\n",
        "    # Kiểm tra xem giá trị có phải là chuỗi không\n",
        "    if isinstance(Memory, str):\n",
        "      if \"+\" in Memory:\n",
        "        Memory = Memory.split(\"+\")\n",
        "        Memory = [convert_Memory(t) for t in Memory]\n",
        "        Memory = sum(Memory)\n",
        "        return Memory\n",
        "      # Loại bỏ các chuỗi 'GB' và 'TB'\n",
        "      if 'GB' in Memory:\n",
        "        Memory = Memory.replace('GB', '')\n",
        "      # Chuyển đổi thành số\n",
        "        Hard_Drive_value = float(Memory)\n",
        "        return Hard_Drive_value\n",
        "      if 'TB' in Memory:\n",
        "        Memory = Memory.replace('TB', '')\n",
        "        Hard_Drive_value = float(Memory)\n",
        "        Hard_Drive_value *= 1024\n",
        "        return Hard_Drive_value\n",
        "    return None"
      ]
    },
    {
      "cell_type": "code",
      "execution_count": 35,
      "metadata": {
        "id": "rKd_pyOpXQOO"
      },
      "outputs": [],
      "source": [
        "df[\"Memory\"] = df[\"Memory\"].apply(extract_Memory)"
      ]
    },
    {
      "cell_type": "code",
      "execution_count": 36,
      "metadata": {
        "id": "cxO1blSFW2Hz"
      },
      "outputs": [],
      "source": [
        "df[\"Memory\"] = df[\"Memory\"].apply(convert_Memory)"
      ]
    },
    {
      "cell_type": "code",
      "execution_count": 37,
      "metadata": {
        "id": "PgznJ9iMO3P2"
      },
      "outputs": [],
      "source": [
        "df[\"Memory\"] = df[\"Memory\"].astype(\"float\")"
      ]
    },
    {
      "cell_type": "code",
      "execution_count": 38,
      "metadata": {
        "colab": {
          "base_uri": "https://localhost:8080/"
        },
        "id": "4shT135eXYCa",
        "outputId": "f5831a0c-4ce3-471d-dc71-1b8abf0ce89f"
      },
      "outputs": [
        {
          "data": {
            "text/plain": [
              "0"
            ]
          },
          "execution_count": 38,
          "metadata": {},
          "output_type": "execute_result"
        }
      ],
      "source": [
        "df[\"Memory\"].isnull().sum()"
      ]
    },
    {
      "cell_type": "code",
      "execution_count": 39,
      "metadata": {
        "colab": {
          "base_uri": "https://localhost:8080/",
          "height": 206
        },
        "id": "--GA2nNsXkAX",
        "outputId": "c024cdd9-38b1-46f4-eec0-1cab257f4493"
      },
      "outputs": [
        {
          "data": {
            "text/html": [
              "<div>\n",
              "<style scoped>\n",
              "    .dataframe tbody tr th:only-of-type {\n",
              "        vertical-align: middle;\n",
              "    }\n",
              "\n",
              "    .dataframe tbody tr th {\n",
              "        vertical-align: top;\n",
              "    }\n",
              "\n",
              "    .dataframe thead th {\n",
              "        text-align: right;\n",
              "    }\n",
              "</style>\n",
              "<table border=\"1\" class=\"dataframe\">\n",
              "  <thead>\n",
              "    <tr style=\"text-align: right;\">\n",
              "      <th></th>\n",
              "      <th>Memory Unclean</th>\n",
              "      <th>Memory Clean</th>\n",
              "    </tr>\n",
              "  </thead>\n",
              "  <tbody>\n",
              "    <tr>\n",
              "      <th>1298</th>\n",
              "      <td>128GB SSD</td>\n",
              "      <td>128.0</td>\n",
              "    </tr>\n",
              "    <tr>\n",
              "      <th>1299</th>\n",
              "      <td>512GB SSD</td>\n",
              "      <td>512.0</td>\n",
              "    </tr>\n",
              "    <tr>\n",
              "      <th>1300</th>\n",
              "      <td>64GB Flash Storage</td>\n",
              "      <td>64.0</td>\n",
              "    </tr>\n",
              "    <tr>\n",
              "      <th>1301</th>\n",
              "      <td>1TB HDD</td>\n",
              "      <td>1024.0</td>\n",
              "    </tr>\n",
              "    <tr>\n",
              "      <th>1302</th>\n",
              "      <td>500GB HDD</td>\n",
              "      <td>500.0</td>\n",
              "    </tr>\n",
              "  </tbody>\n",
              "</table>\n",
              "</div>"
            ],
            "text/plain": [
              "          Memory Unclean  Memory Clean\n",
              "1298           128GB SSD         128.0\n",
              "1299           512GB SSD         512.0\n",
              "1300  64GB Flash Storage          64.0\n",
              "1301             1TB HDD        1024.0\n",
              "1302           500GB HDD         500.0"
            ]
          },
          "execution_count": 39,
          "metadata": {},
          "output_type": "execute_result"
        }
      ],
      "source": [
        "concatenate = pd.concat([df_uncleaned['Memory'], df['Memory']], axis=1)\n",
        "concatenate.columns = [\"Memory Unclean\", \"Memory Clean\"]\n",
        "concatenate.tail(5)"
      ]
    },
    {
      "cell_type": "markdown",
      "metadata": {
        "id": "rtTTSAB7yNKP"
      },
      "source": [
        "#**CLEANING Gpu**"
      ]
    },
    {
      "cell_type": "code",
      "execution_count": 40,
      "metadata": {
        "colab": {
          "base_uri": "https://localhost:8080/"
        },
        "id": "LzlvZYuPiCwg",
        "outputId": "9a71e63a-4e91-4062-d2cd-84071bcb881b"
      },
      "outputs": [
        {
          "data": {
            "text/plain": [
              "index\n",
              "0    Intel Iris Plus Graphics 640\n",
              "1          Intel HD Graphics 6000\n",
              "2           Intel HD Graphics 620\n",
              "3              AMD Radeon Pro 455\n",
              "4    Intel Iris Plus Graphics 650\n",
              "5                   AMD Radeon R5\n",
              "6         Intel Iris Pro Graphics\n",
              "7          Intel HD Graphics 6000\n",
              "8            Nvidia GeForce MX150\n",
              "9          Intel UHD Graphics 620\n",
              "Name: Gpu, dtype: object"
            ]
          },
          "execution_count": 40,
          "metadata": {},
          "output_type": "execute_result"
        }
      ],
      "source": [
        "df[\"Gpu\"].head(10)"
      ]
    },
    {
      "cell_type": "code",
      "execution_count": 41,
      "metadata": {
        "id": "OfjfU-fKG5Cr"
      },
      "outputs": [],
      "source": [
        "list_series_gpu_groupby = df[\"Gpu\"].sort_values()"
      ]
    },
    {
      "cell_type": "code",
      "execution_count": 42,
      "metadata": {
        "colab": {
          "base_uri": "https://localhost:8080/"
        },
        "id": "SOgpapj-HV2A",
        "outputId": "d68163e5-9fd5-4130-fe41-7ce7d387b425"
      },
      "outputs": [
        {
          "data": {
            "text/plain": [
              "index\n",
              "1086     AMD FirePro W4190M\n",
              "471     AMD FirePro W4190M \n",
              "229     AMD FirePro W4190M \n",
              "387      AMD FirePro W5130M\n",
              "1103     AMD FirePro W6150M\n",
              "178          AMD R17M-M1-70\n",
              "83          AMD R4 Graphics\n",
              "412          AMD Radeon 520\n",
              "272          AMD Radeon 520\n",
              "162          AMD Radeon 520\n",
              "Name: Gpu, dtype: object"
            ]
          },
          "execution_count": 42,
          "metadata": {},
          "output_type": "execute_result"
        }
      ],
      "source": [
        "list_series_gpu_groupby.head(10)"
      ]
    },
    {
      "cell_type": "code",
      "execution_count": 43,
      "metadata": {
        "id": "lgvV4S-3FEGy"
      },
      "outputs": [],
      "source": [
        "list_gpu_groupby_counts = df.groupby('Gpu').size()"
      ]
    },
    {
      "cell_type": "code",
      "execution_count": 44,
      "metadata": {
        "colab": {
          "base_uri": "https://localhost:8080/"
        },
        "id": "UAzJjVI-PAPk",
        "outputId": "c1dadfee-7252-450b-f135-a7dcd4509d0e"
      },
      "outputs": [
        {
          "data": {
            "text/plain": [
              "Gpu\n",
              "AMD FirePro W4190M      1\n",
              "AMD FirePro W4190M      2\n",
              "AMD FirePro W5130M      1\n",
              "AMD FirePro W6150M      1\n",
              "AMD R17M-M1-70          1\n",
              "AMD R4 Graphics         1\n",
              "AMD Radeon 520         17\n",
              "AMD Radeon 530         41\n",
              "AMD Radeon 540          1\n",
              "AMD Radeon Pro 455      1\n",
              "dtype: int64"
            ]
          },
          "execution_count": 44,
          "metadata": {},
          "output_type": "execute_result"
        }
      ],
      "source": [
        "list_gpu_groupby_counts.head(10)"
      ]
    },
    {
      "cell_type": "markdown",
      "metadata": {
        "id": "XawNBNtdIF0c"
      },
      "source": [
        "#**CLEANING OpSys**"
      ]
    },
    {
      "cell_type": "code",
      "execution_count": 45,
      "metadata": {
        "id": "bYmAzx_NIKUp"
      },
      "outputs": [],
      "source": [
        "df[\"OpSys\"] = df[\"OpSys\"].str.upper()"
      ]
    },
    {
      "cell_type": "code",
      "execution_count": 46,
      "metadata": {
        "colab": {
          "base_uri": "https://localhost:8080/"
        },
        "id": "BhOir5z9IVAW",
        "outputId": "1437d520-9cbe-4278-d54d-0e6983ac4b0e"
      },
      "outputs": [
        {
          "data": {
            "text/plain": [
              "index\n",
              "0    MACOS\n",
              "1    MACOS\n",
              "2    NO OS\n",
              "3    MACOS\n",
              "4    MACOS\n",
              "Name: OpSys, dtype: object"
            ]
          },
          "execution_count": 46,
          "metadata": {},
          "output_type": "execute_result"
        }
      ],
      "source": [
        "df[\"OpSys\"].head(5)"
      ]
    },
    {
      "cell_type": "markdown",
      "metadata": {
        "id": "W2m0Q1DKNOJc"
      },
      "source": [
        "#**CLEANING Weight**"
      ]
    },
    {
      "cell_type": "code",
      "execution_count": 47,
      "metadata": {
        "colab": {
          "base_uri": "https://localhost:8080/"
        },
        "id": "Mzu-IsucN7mN",
        "outputId": "5ec051f1-51e7-4a95-f4d6-3df5d92bb59e"
      },
      "outputs": [
        {
          "data": {
            "text/plain": [
              "index\n",
              "0    1.37kg\n",
              "1    1.34kg\n",
              "2    1.86kg\n",
              "3    1.83kg\n",
              "4    1.37kg\n",
              "Name: Weight, dtype: object"
            ]
          },
          "execution_count": 47,
          "metadata": {},
          "output_type": "execute_result"
        }
      ],
      "source": [
        "df[\"Weight\"].head(5)"
      ]
    },
    {
      "cell_type": "code",
      "execution_count": 48,
      "metadata": {
        "id": "nHipLFpcJnwX"
      },
      "outputs": [],
      "source": [
        "df[\"Weight\"] = df[\"Weight\"].str.lower()"
      ]
    },
    {
      "cell_type": "code",
      "execution_count": 49,
      "metadata": {
        "id": "STt6Z-c4JXAO"
      },
      "outputs": [],
      "source": [
        "def extract_weight(weight):\n",
        "  result = re.search(\"\\d+\\.\\d+\", weight)\n",
        "  if result:\n",
        "    return result.group()\n",
        "  else:\n",
        "    result = re.search(\"\\d+\", weight)\n",
        "    return result.group()\n",
        "  return None"
      ]
    },
    {
      "cell_type": "code",
      "execution_count": 50,
      "metadata": {
        "id": "kkoRS-jQKCfv"
      },
      "outputs": [],
      "source": [
        "df[\"Weight\"] = df[\"Weight\"].apply(extract_weight)"
      ]
    },
    {
      "cell_type": "code",
      "execution_count": 51,
      "metadata": {
        "id": "NFX-lUITPStW"
      },
      "outputs": [],
      "source": [
        "df[\"Weight\"] = df[\"Weight\"].astype(\"float\")"
      ]
    },
    {
      "cell_type": "code",
      "execution_count": 52,
      "metadata": {
        "colab": {
          "base_uri": "https://localhost:8080/"
        },
        "id": "jHxRBv0RKOT5",
        "outputId": "93739e33-e408-45f0-8de5-abdc767169b2"
      },
      "outputs": [
        {
          "data": {
            "text/plain": [
              "0"
            ]
          },
          "execution_count": 52,
          "metadata": {},
          "output_type": "execute_result"
        }
      ],
      "source": [
        "df[\"Weight\"].isnull().sum()"
      ]
    },
    {
      "cell_type": "code",
      "execution_count": 53,
      "metadata": {
        "colab": {
          "base_uri": "https://localhost:8080/",
          "height": 206
        },
        "id": "mAzcZO-DKbXx",
        "outputId": "44a93792-b949-4f6e-f7c6-6ceda03ab712"
      },
      "outputs": [
        {
          "data": {
            "text/html": [
              "<div>\n",
              "<style scoped>\n",
              "    .dataframe tbody tr th:only-of-type {\n",
              "        vertical-align: middle;\n",
              "    }\n",
              "\n",
              "    .dataframe tbody tr th {\n",
              "        vertical-align: top;\n",
              "    }\n",
              "\n",
              "    .dataframe thead th {\n",
              "        text-align: right;\n",
              "    }\n",
              "</style>\n",
              "<table border=\"1\" class=\"dataframe\">\n",
              "  <thead>\n",
              "    <tr style=\"text-align: right;\">\n",
              "      <th></th>\n",
              "      <th>Weight Unclean</th>\n",
              "      <th>Weight Clean</th>\n",
              "    </tr>\n",
              "  </thead>\n",
              "  <tbody>\n",
              "    <tr>\n",
              "      <th>1298</th>\n",
              "      <td>1.8kg</td>\n",
              "      <td>1.80</td>\n",
              "    </tr>\n",
              "    <tr>\n",
              "      <th>1299</th>\n",
              "      <td>1.3kg</td>\n",
              "      <td>1.30</td>\n",
              "    </tr>\n",
              "    <tr>\n",
              "      <th>1300</th>\n",
              "      <td>1.5kg</td>\n",
              "      <td>1.50</td>\n",
              "    </tr>\n",
              "    <tr>\n",
              "      <th>1301</th>\n",
              "      <td>2.19kg</td>\n",
              "      <td>2.19</td>\n",
              "    </tr>\n",
              "    <tr>\n",
              "      <th>1302</th>\n",
              "      <td>2.2kg</td>\n",
              "      <td>2.20</td>\n",
              "    </tr>\n",
              "  </tbody>\n",
              "</table>\n",
              "</div>"
            ],
            "text/plain": [
              "     Weight Unclean  Weight Clean\n",
              "1298          1.8kg          1.80\n",
              "1299          1.3kg          1.30\n",
              "1300          1.5kg          1.50\n",
              "1301         2.19kg          2.19\n",
              "1302          2.2kg          2.20"
            ]
          },
          "execution_count": 53,
          "metadata": {},
          "output_type": "execute_result"
        }
      ],
      "source": [
        "concatenate = pd.concat([df_uncleaned['Weight'], df['Weight']], axis=1)\n",
        "concatenate.columns = [\"Weight Unclean\", \"Weight Clean\"]\n",
        "concatenate.tail(5)"
      ]
    },
    {
      "cell_type": "markdown",
      "metadata": {
        "id": "TabMZ5rqM7W2"
      },
      "source": [
        "#**CLEANING Price**"
      ]
    },
    {
      "cell_type": "code",
      "execution_count": 54,
      "metadata": {
        "colab": {
          "base_uri": "https://localhost:8080/"
        },
        "id": "Fhyvfhx9LLlO",
        "outputId": "b9daece7-e51e-4a64-d859-c97832d4def3"
      },
      "outputs": [
        {
          "data": {
            "text/plain": [
              "index\n",
              "0     71378.6832\n",
              "1     47895.5232\n",
              "2     30636.0000\n",
              "3    135195.3360\n",
              "4     96095.8080\n",
              "Name: Price, dtype: float64"
            ]
          },
          "execution_count": 54,
          "metadata": {},
          "output_type": "execute_result"
        }
      ],
      "source": [
        "df[\"Price\"].head(5)"
      ]
    },
    {
      "cell_type": "code",
      "execution_count": 55,
      "metadata": {
        "id": "YqGNgvtDLmKT"
      },
      "outputs": [],
      "source": [
        "df[\"Price\"] = df[\"Price\"].astype(float).round(2)"
      ]
    },
    {
      "cell_type": "code",
      "execution_count": 56,
      "metadata": {
        "colab": {
          "base_uri": "https://localhost:8080/",
          "height": 206
        },
        "id": "Z7kWwGZDLyqM",
        "outputId": "95287c45-09ef-410e-d5fa-7a731a4079c3"
      },
      "outputs": [
        {
          "data": {
            "text/html": [
              "<div>\n",
              "<style scoped>\n",
              "    .dataframe tbody tr th:only-of-type {\n",
              "        vertical-align: middle;\n",
              "    }\n",
              "\n",
              "    .dataframe tbody tr th {\n",
              "        vertical-align: top;\n",
              "    }\n",
              "\n",
              "    .dataframe thead th {\n",
              "        text-align: right;\n",
              "    }\n",
              "</style>\n",
              "<table border=\"1\" class=\"dataframe\">\n",
              "  <thead>\n",
              "    <tr style=\"text-align: right;\">\n",
              "      <th></th>\n",
              "      <th>Price Unclean</th>\n",
              "      <th>Price Clean</th>\n",
              "    </tr>\n",
              "  </thead>\n",
              "  <tbody>\n",
              "    <tr>\n",
              "      <th>0</th>\n",
              "      <td>71378.6832</td>\n",
              "      <td>71378.68</td>\n",
              "    </tr>\n",
              "    <tr>\n",
              "      <th>1</th>\n",
              "      <td>47895.5232</td>\n",
              "      <td>47895.52</td>\n",
              "    </tr>\n",
              "    <tr>\n",
              "      <th>2</th>\n",
              "      <td>30636.0000</td>\n",
              "      <td>30636.00</td>\n",
              "    </tr>\n",
              "    <tr>\n",
              "      <th>3</th>\n",
              "      <td>135195.3360</td>\n",
              "      <td>135195.34</td>\n",
              "    </tr>\n",
              "    <tr>\n",
              "      <th>4</th>\n",
              "      <td>96095.8080</td>\n",
              "      <td>96095.81</td>\n",
              "    </tr>\n",
              "  </tbody>\n",
              "</table>\n",
              "</div>"
            ],
            "text/plain": [
              "   Price Unclean  Price Clean\n",
              "0     71378.6832     71378.68\n",
              "1     47895.5232     47895.52\n",
              "2     30636.0000     30636.00\n",
              "3    135195.3360    135195.34\n",
              "4     96095.8080     96095.81"
            ]
          },
          "execution_count": 56,
          "metadata": {},
          "output_type": "execute_result"
        }
      ],
      "source": [
        "concatenate = pd.concat([df_uncleaned['Price'], df['Price']], axis=1)\n",
        "concatenate.columns = [\"Price Unclean\", \"Price Clean\"]\n",
        "concatenate.head(5)"
      ]
    },
    {
      "cell_type": "code",
      "execution_count": 57,
      "metadata": {
        "id": "A0KBgwB2QJz2"
      },
      "outputs": [],
      "source": [
        "test = df_uncleaned.copy()"
      ]
    },
    {
      "cell_type": "markdown",
      "metadata": {
        "id": "IaXX_H1pPj1R"
      },
      "source": [
        "#**Mã hóa dữ liệu**"
      ]
    },
    {
      "cell_type": "code",
      "execution_count": 65,
      "metadata": {
        "colab": {
          "base_uri": "https://localhost:8080/",
          "height": 562
        },
        "id": "nkzhbM3JhYow",
        "outputId": "39a24d02-1553-433f-aa2d-4153fe50b852"
      },
      "outputs": [
        {
          "data": {
            "image/png": "[encoded data removed]",
            "text/plain": [
              "<Figure size 1400x600 with 2 Axes>"
            ]
          },
          "metadata": {},
          "output_type": "display_data"
        }
      ],
      "source": [
        "# Khởi tạo LabelEncoder\n",
        "label_encoder = LabelEncoder()\n",
        "# Mã hóa cột 'Cpu'\n",
        "test['CPU encoded'] = label_encoder.fit_transform(test['Cpu'])\n",
        "# Vẽ biểu đồ thứ nhất\n",
        "plt.subplot(1, 2, 1)\n",
        "sns.countplot(x='CPU encoded', data=test)\n",
        "major_locator = MultipleLocator(50)\n",
        "plt.gca().xaxis.set_major_locator(major_locator)\n",
        "plt.xlabel('Encoded CPU')\n",
        "plt.ylabel('Count')\n",
        "plt.title('distribution of CPU when uncleaned')\n",
        "\n",
        "# Mã hóa cột 'CPU' cho biểu đồ thứ hai\n",
        "df_cleaned['CPU encoded'] = label_encoder.fit_transform(df['Cpu'])\n",
        "\n",
        "# Vẽ biểu đồ thứ hai\n",
        "plt.subplot(1, 2, 2)\n",
        "sns.countplot(x='CPU encoded', data=df_cleaned)\n",
        "plt.xlabel('Encoded CPU')\n",
        "plt.ylabel('Count')\n",
        "plt.title('distribution of CPU when cleaned')\n",
        "\n",
        "plt.gcf().set_size_inches(14, 6)\n",
        "# Hiển thị biểu đồ\n",
        "plt.tight_layout()\n",
        "plt.show()"
      ]
    },
    {
      "cell_type": "code",
      "execution_count": 67,
      "metadata": {
        "id": "XQqIN24dZFXS"
      },
      "outputs": [],
      "source": [
        "top_20 = list_gpu_groupby_counts.sort_values(ascending=False)[:20]"
      ]
    },
    {
      "cell_type": "code",
      "execution_count": 68,
      "metadata": {
        "colab": {
          "base_uri": "https://localhost:8080/",
          "height": 490
        },
        "id": "xCE2afiNSQ99",
        "outputId": "19753853-80f0-44b1-d014-998b58410b5f"
      },
      "outputs": [
        {
          "data": {
            "text/plain": [
              "Text(0.5, 0, 'Count')"
            ]
          },
          "execution_count": 68,
          "metadata": {},
          "output_type": "execute_result"
        },
        {
          "data": {
            "image/png": "[encoded data removed]",
            "text/plain": [
              "<Figure size 640x480 with 1 Axes>"
            ]
          },
          "metadata": {},
          "output_type": "display_data"
        }
      ],
      "source": [
        "barplot = sns.barplot(x=top_20.values, y=top_20.index)\n",
        "for i in range(top_20.shape[0]):\n",
        "    barplot.text(top_20.values[i] + 15, i + 0.2,\n",
        "                 round(top_20.values[i], 2),\n",
        "                 color='black', ha=\"right\")\n",
        "\n",
        "plt.title('Top 20 Gpu useage')\n",
        "plt.xlabel('Count')"
      ]
    },
    {
      "cell_type": "markdown",
      "metadata": {
        "id": "lCROpngib5U7"
      },
      "source": [
        "#**Chuẩn hóa dữ liệu**"
      ]
    },
    {
      "cell_type": "code",
      "execution_count": 69,
      "metadata": {
        "id": "-yWmakVOc-3H"
      },
      "outputs": [],
      "source": [
        "from sklearn.preprocessing import StandardScaler"
      ]
    },
    {
      "cell_type": "code",
      "execution_count": 72,
      "metadata": {
        "id": "8BWsaSaFb7vc"
      },
      "outputs": [
        {
          "data": {
            "image/png": "[encoded data removed]",
            "text/plain": [
              "<Figure size 1400x1800 with 12 Axes>"
            ]
          },
          "metadata": {},
          "output_type": "display_data"
        }
      ],
      "source": [
        "Scaler = StandardScaler()\n",
        "selected_columns = ['Inches', 'Cpu', 'Ram', \"Memory\", \"Weight\", \"Price\"]\n",
        "df_selected = df[selected_columns]\n",
        "df_scaled = Scaler.fit_transform(df_selected)\n",
        "df_scaled = pd.DataFrame(df_scaled, columns=selected_columns)\n",
        "plt.figure(figsize=(14, 18))  # Change the size of the figure\n",
        "for i, column in enumerate(selected_columns):\n",
        "    plt.subplot(6, 2, 2*i + 1)  # Change the number of rows in the subplot\n",
        "    plt.hist(df[column], bins=20, color='blue', alpha=0.5)\n",
        "    plt.title(f'Before Scaling - {column}')\n",
        "    plt.subplot(6, 2, 2*i+2)  # Change the number of rows in the subplot\n",
        "    plt.hist(df_scaled[column], bins=20, color='red', alpha=0.5)\n",
        "    plt.title(f'After Scaling - {column}')\n",
        "\n",
        "plt.tight_layout()\n",
        "plt.show()"
      ]
    },
    {
      "cell_type": "code",
      "execution_count": 87,
      "metadata": {},
      "outputs": [
        {
          "data": {
            "text/html": [
              "<div>\n",
              "<style scoped>\n",
              "    .dataframe tbody tr th:only-of-type {\n",
              "        vertical-align: middle;\n",
              "    }\n",
              "\n",
              "    .dataframe tbody tr th {\n",
              "        vertical-align: top;\n",
              "    }\n",
              "\n",
              "    .dataframe thead th {\n",
              "        text-align: right;\n",
              "    }\n",
              "</style>\n",
              "<table border=\"1\" class=\"dataframe\">\n",
              "  <thead>\n",
              "    <tr style=\"text-align: right;\">\n",
              "      <th></th>\n",
              "      <th>Inches</th>\n",
              "      <th>Cpu</th>\n",
              "      <th>Ram</th>\n",
              "      <th>Memory</th>\n",
              "      <th>Weight</th>\n",
              "      <th>Price</th>\n",
              "    </tr>\n",
              "  </thead>\n",
              "  <tbody>\n",
              "    <tr>\n",
              "      <th>0</th>\n",
              "      <td>-1.204407</td>\n",
              "      <td>0.002426</td>\n",
              "      <td>-0.075195</td>\n",
              "      <td>-1.026162</td>\n",
              "      <td>-1.005283</td>\n",
              "      <td>0.309132</td>\n",
              "    </tr>\n",
              "    <tr>\n",
              "      <th>1</th>\n",
              "      <td>-1.204407</td>\n",
              "      <td>-0.985431</td>\n",
              "      <td>-0.075195</td>\n",
              "      <td>-1.026162</td>\n",
              "      <td>-1.050381</td>\n",
              "      <td>-0.321646</td>\n",
              "    </tr>\n",
              "    <tr>\n",
              "      <th>2</th>\n",
              "      <td>0.408772</td>\n",
              "      <td>0.397569</td>\n",
              "      <td>-0.075195</td>\n",
              "      <td>-0.759244</td>\n",
              "      <td>-0.268684</td>\n",
              "      <td>-0.785251</td>\n",
              "    </tr>\n",
              "    <tr>\n",
              "      <th>3</th>\n",
              "      <td>0.268495</td>\n",
              "      <td>0.792712</td>\n",
              "      <td>1.498767</td>\n",
              "      <td>-0.225410</td>\n",
              "      <td>-0.313782</td>\n",
              "      <td>2.023301</td>\n",
              "    </tr>\n",
              "    <tr>\n",
              "      <th>4</th>\n",
              "      <td>-1.204407</td>\n",
              "      <td>1.582997</td>\n",
              "      <td>-0.075195</td>\n",
              "      <td>-0.759244</td>\n",
              "      <td>-1.005283</td>\n",
              "      <td>0.973055</td>\n",
              "    </tr>\n",
              "  </tbody>\n",
              "</table>\n",
              "</div>"
            ],
            "text/plain": [
              "     Inches       Cpu       Ram    Memory    Weight     Price\n",
              "0 -1.204407  0.002426 -0.075195 -1.026162 -1.005283  0.309132\n",
              "1 -1.204407 -0.985431 -0.075195 -1.026162 -1.050381 -0.321646\n",
              "2  0.408772  0.397569 -0.075195 -0.759244 -0.268684 -0.785251\n",
              "3  0.268495  0.792712  1.498767 -0.225410 -0.313782  2.023301\n",
              "4 -1.204407  1.582997 -0.075195 -0.759244 -1.005283  0.973055"
            ]
          },
          "execution_count": 87,
          "metadata": {},
          "output_type": "execute_result"
        }
      ],
      "source": [
        "df_scaled.head(5)"
      ]
    },
    {
      "cell_type": "code",
      "execution_count": 90,
      "metadata": {},
      "outputs": [
        {
          "data": {
            "text/html": [
              "<div>\n",
              "<style scoped>\n",
              "    .dataframe tbody tr th:only-of-type {\n",
              "        vertical-align: middle;\n",
              "    }\n",
              "\n",
              "    .dataframe tbody tr th {\n",
              "        vertical-align: top;\n",
              "    }\n",
              "\n",
              "    .dataframe thead th {\n",
              "        text-align: right;\n",
              "    }\n",
              "</style>\n",
              "<table border=\"1\" class=\"dataframe\">\n",
              "  <thead>\n",
              "    <tr style=\"text-align: right;\">\n",
              "      <th></th>\n",
              "      <th>Inches</th>\n",
              "      <th>Cpu</th>\n",
              "      <th>Ram</th>\n",
              "      <th>Memory</th>\n",
              "      <th>Weight</th>\n",
              "      <th>Price</th>\n",
              "    </tr>\n",
              "  </thead>\n",
              "  <tbody>\n",
              "    <tr>\n",
              "      <th>0</th>\n",
              "      <td>13.3</td>\n",
              "      <td>2.3</td>\n",
              "      <td>8.0</td>\n",
              "      <td>128.0</td>\n",
              "      <td>1.37</td>\n",
              "      <td>71378.68</td>\n",
              "    </tr>\n",
              "    <tr>\n",
              "      <th>1</th>\n",
              "      <td>13.3</td>\n",
              "      <td>1.8</td>\n",
              "      <td>8.0</td>\n",
              "      <td>128.0</td>\n",
              "      <td>1.34</td>\n",
              "      <td>47895.52</td>\n",
              "    </tr>\n",
              "    <tr>\n",
              "      <th>2</th>\n",
              "      <td>15.6</td>\n",
              "      <td>2.5</td>\n",
              "      <td>8.0</td>\n",
              "      <td>256.0</td>\n",
              "      <td>1.86</td>\n",
              "      <td>30636.00</td>\n",
              "    </tr>\n",
              "    <tr>\n",
              "      <th>3</th>\n",
              "      <td>15.4</td>\n",
              "      <td>2.7</td>\n",
              "      <td>16.0</td>\n",
              "      <td>512.0</td>\n",
              "      <td>1.83</td>\n",
              "      <td>135195.34</td>\n",
              "    </tr>\n",
              "    <tr>\n",
              "      <th>4</th>\n",
              "      <td>13.3</td>\n",
              "      <td>3.1</td>\n",
              "      <td>8.0</td>\n",
              "      <td>256.0</td>\n",
              "      <td>1.37</td>\n",
              "      <td>96095.81</td>\n",
              "    </tr>\n",
              "  </tbody>\n",
              "</table>\n",
              "</div>"
            ],
            "text/plain": [
              "   Inches  Cpu   Ram  Memory  Weight      Price\n",
              "0    13.3  2.3   8.0   128.0    1.37   71378.68\n",
              "1    13.3  1.8   8.0   128.0    1.34   47895.52\n",
              "2    15.6  2.5   8.0   256.0    1.86   30636.00\n",
              "3    15.4  2.7  16.0   512.0    1.83  135195.34\n",
              "4    13.3  3.1   8.0   256.0    1.37   96095.81"
            ]
          },
          "execution_count": 90,
          "metadata": {},
          "output_type": "execute_result"
        }
      ],
      "source": [
        "df[selected_columns].head(5).reset_index(drop=True)"
      ]
    },
    {
      "cell_type": "markdown",
      "metadata": {
        "id": "o7gdzfVid_sg"
      },
      "source": [
        "#**Dữ liêu ban đầu**"
      ]
    },
    {
      "cell_type": "code",
      "execution_count": 91,
      "metadata": {},
      "outputs": [],
      "source": [
        "from IPython.display import display, HTML"
      ]
    },
    {
      "cell_type": "code",
      "execution_count": 65,
      "metadata": {
        "colab": {
          "base_uri": "https://localhost:8080/",
          "height": 554
        },
        "id": "DmZ66GyqeEU0",
        "outputId": "5257b1e4-3d67-426c-a821-a385a5ef671c"
      },
      "outputs": [
        {
          "data": {
            "application/vnd.google.colaboratory.intrinsic+json": {
              "summary": "{\n  \"name\": \"df_uncleaned\",\n  \"rows\": 1303,\n  \"fields\": [\n    {\n      \"column\": \"Unnamed: 0\",\n      \"properties\": {\n        \"dtype\": \"number\",\n        \"std\": 376,\n        \"min\": 0,\n        \"max\": 1302,\n        \"num_unique_values\": 1303,\n        \"samples\": [\n          479,\n          1022,\n          298\n        ],\n        \"semantic_type\": \"\",\n        \"description\": \"\"\n      }\n    },\n    {\n      \"column\": \"Company\",\n      \"properties\": {\n        \"dtype\": \"category\",\n        \"num_unique_values\": 19,\n        \"samples\": [\n          \"Apple\",\n          \"Lenovo\",\n          \"Xiaomi\"\n        ],\n        \"semantic_type\": \"\",\n        \"description\": \"\"\n      }\n    },\n    {\n      \"column\": \"TypeName\",\n      \"properties\": {\n        \"dtype\": \"category\",\n        \"num_unique_values\": 6,\n        \"samples\": [\n          \"Ultrabook\",\n          \"Notebook\",\n          \"Workstation\"\n        ],\n        \"semantic_type\": \"\",\n        \"description\": \"\"\n      }\n    },\n    {\n      \"column\": \"Inches\",\n      \"properties\": {\n        \"dtype\": \"number\",\n        \"std\": 1.4263040545691645,\n        \"min\": 10.1,\n        \"max\": 18.4,\n        \"num_unique_values\": 18,\n        \"samples\": [\n          13.3,\n          15.6,\n          13.5\n        ],\n        \"semantic_type\": \"\",\n        \"description\": \"\"\n      }\n    },\n    {\n      \"column\": \"ScreenResolution\",\n      \"properties\": {\n        \"dtype\": \"category\",\n        \"num_unique_values\": 40,\n        \"samples\": [\n          \"IPS Panel 4K Ultra HD 3840x2160\",\n          \"4K Ultra HD / Touchscreen 3840x2160\",\n          \"IPS Panel Full HD 2160x1440\"\n        ],\n        \"semantic_type\": \"\",\n        \"description\": \"\"\n      }\n    },\n    {\n      \"column\": \"Cpu\",\n      \"properties\": {\n        \"dtype\": \"category\",\n        \"num_unique_values\": 118,\n        \"samples\": [\n          \"Intel Celeron Dual Core 3855U 1.6GHz\",\n          \"AMD A6-Series 7310 2GHz\",\n          \"Intel Core i5 3.1GHz\"\n        ],\n        \"semantic_type\": \"\",\n        \"description\": \"\"\n      }\n    },\n    {\n      \"column\": \"Ram\",\n      \"properties\": {\n        \"dtype\": \"category\",\n        \"num_unique_values\": 9,\n        \"samples\": [\n          \"24GB\",\n          \"16GB\",\n          \"6GB\"\n        ],\n        \"semantic_type\": \"\",\n        \"description\": \"\"\n      }\n    },\n    {\n      \"column\": \"Memory\",\n      \"properties\": {\n        \"dtype\": \"category\",\n        \"num_unique_values\": 39,\n        \"samples\": [\n          \"240GB SSD\",\n          \"1.0TB HDD\",\n          \"500GB HDD\"\n        ],\n        \"semantic_type\": \"\",\n        \"description\": \"\"\n      }\n    },\n    {\n      \"column\": \"Gpu\",\n      \"properties\": {\n        \"dtype\": \"category\",\n        \"num_unique_values\": 110,\n        \"samples\": [\n          \"AMD Radeon R7\",\n          \"AMD Radeon Pro 555\",\n          \"Intel Iris Plus Graphics 650\"\n        ],\n        \"semantic_type\": \"\",\n        \"description\": \"\"\n      }\n    },\n    {\n      \"column\": \"OpSys\",\n      \"properties\": {\n        \"dtype\": \"category\",\n        \"num_unique_values\": 9,\n        \"samples\": [\n          \"Chrome OS\",\n          \"No OS\",\n          \"Android\"\n        ],\n        \"semantic_type\": \"\",\n        \"description\": \"\"\n      }\n    },\n    {\n      \"column\": \"Weight\",\n      \"properties\": {\n        \"dtype\": \"category\",\n        \"num_unique_values\": 179,\n        \"samples\": [\n          \"4.42kg\",\n          \"1.35kg\",\n          \"2.03kg\"\n        ],\n        \"semantic_type\": \"\",\n        \"description\": \"\"\n      }\n    },\n    {\n      \"column\": \"Price\",\n      \"properties\": {\n        \"dtype\": \"number\",\n        \"std\": 37243.20178619774,\n        \"min\": 9270.72,\n        \"max\": 324954.72,\n        \"num_unique_values\": 791,\n        \"samples\": [\n          68837.76,\n          20725.92,\n          95797.44\n        ],\n        \"semantic_type\": \"\",\n        \"description\": \"\"\n      }\n    }\n  ]\n}",
              "type": "dataframe",
              "variable_name": "df_uncleaned"
            },
            "text/html": [
              "\n",
              "  <div id=\"df-fe8ba025-770c-4f1b-b2d7-affeafabdf3f\" class=\"colab-df-container\">\n",
              "    <div>\n",
              "<style scoped>\n",
              "    .dataframe tbody tr th:only-of-type {\n",
              "        vertical-align: middle;\n",
              "    }\n",
              "\n",
              "    .dataframe tbody tr th {\n",
              "        vertical-align: top;\n",
              "    }\n",
              "\n",
              "    .dataframe thead th {\n",
              "        text-align: right;\n",
              "    }\n",
              "</style>\n",
              "<table border=\"1\" class=\"dataframe\">\n",
              "  <thead>\n",
              "    <tr style=\"text-align: right;\">\n",
              "      <th></th>\n",
              "      <th>Unnamed: 0</th>\n",
              "      <th>Company</th>\n",
              "      <th>TypeName</th>\n",
              "      <th>Inches</th>\n",
              "      <th>ScreenResolution</th>\n",
              "      <th>Cpu</th>\n",
              "      <th>Ram</th>\n",
              "      <th>Memory</th>\n",
              "      <th>Gpu</th>\n",
              "      <th>OpSys</th>\n",
              "      <th>Weight</th>\n",
              "      <th>Price</th>\n",
              "    </tr>\n",
              "  </thead>\n",
              "  <tbody>\n",
              "    <tr>\n",
              "      <th>0</th>\n",
              "      <td>0</td>\n",
              "      <td>Apple</td>\n",
              "      <td>Ultrabook</td>\n",
              "      <td>13.3</td>\n",
              "      <td>IPS Panel Retina Display 2560x1600</td>\n",
              "      <td>Intel Core i5 2.3GHz</td>\n",
              "      <td>8GB</td>\n",
              "      <td>128GB SSD</td>\n",
              "      <td>Intel Iris Plus Graphics 640</td>\n",
              "      <td>macOS</td>\n",
              "      <td>1.37kg</td>\n",
              "      <td>71378.6832</td>\n",
              "    </tr>\n",
              "    <tr>\n",
              "      <th>1</th>\n",
              "      <td>1</td>\n",
              "      <td>Apple</td>\n",
              "      <td>Ultrabook</td>\n",
              "      <td>13.3</td>\n",
              "      <td>1440x900</td>\n",
              "      <td>Intel Core i5 1.8GHz</td>\n",
              "      <td>8GB</td>\n",
              "      <td>128GB Flash Storage</td>\n",
              "      <td>Intel HD Graphics 6000</td>\n",
              "      <td>macOS</td>\n",
              "      <td>1.34kg</td>\n",
              "      <td>47895.5232</td>\n",
              "    </tr>\n",
              "    <tr>\n",
              "      <th>2</th>\n",
              "      <td>2</td>\n",
              "      <td>HP</td>\n",
              "      <td>Notebook</td>\n",
              "      <td>15.6</td>\n",
              "      <td>Full HD 1920x1080</td>\n",
              "      <td>Intel Core i5 7200U 2.5GHz</td>\n",
              "      <td>8GB</td>\n",
              "      <td>256GB SSD</td>\n",
              "      <td>Intel HD Graphics 620</td>\n",
              "      <td>No OS</td>\n",
              "      <td>1.86kg</td>\n",
              "      <td>30636.0000</td>\n",
              "    </tr>\n",
              "    <tr>\n",
              "      <th>3</th>\n",
              "      <td>3</td>\n",
              "      <td>Apple</td>\n",
              "      <td>Ultrabook</td>\n",
              "      <td>15.4</td>\n",
              "      <td>IPS Panel Retina Display 2880x1800</td>\n",
              "      <td>Intel Core i7 2.7GHz</td>\n",
              "      <td>16GB</td>\n",
              "      <td>512GB SSD</td>\n",
              "      <td>AMD Radeon Pro 455</td>\n",
              "      <td>macOS</td>\n",
              "      <td>1.83kg</td>\n",
              "      <td>135195.3360</td>\n",
              "    </tr>\n",
              "    <tr>\n",
              "      <th>4</th>\n",
              "      <td>4</td>\n",
              "      <td>Apple</td>\n",
              "      <td>Ultrabook</td>\n",
              "      <td>13.3</td>\n",
              "      <td>IPS Panel Retina Display 2560x1600</td>\n",
              "      <td>Intel Core i5 3.1GHz</td>\n",
              "      <td>8GB</td>\n",
              "      <td>256GB SSD</td>\n",
              "      <td>Intel Iris Plus Graphics 650</td>\n",
              "      <td>macOS</td>\n",
              "      <td>1.37kg</td>\n",
              "      <td>96095.8080</td>\n",
              "    </tr>\n",
              "    <tr>\n",
              "      <th>5</th>\n",
              "      <td>5</td>\n",
              "      <td>Acer</td>\n",
              "      <td>Notebook</td>\n",
              "      <td>15.6</td>\n",
              "      <td>1366x768</td>\n",
              "      <td>AMD A9-Series 9420 3GHz</td>\n",
              "      <td>4GB</td>\n",
              "      <td>500GB HDD</td>\n",
              "      <td>AMD Radeon R5</td>\n",
              "      <td>Windows 10</td>\n",
              "      <td>2.1kg</td>\n",
              "      <td>21312.0000</td>\n",
              "    </tr>\n",
              "    <tr>\n",
              "      <th>6</th>\n",
              "      <td>6</td>\n",
              "      <td>Apple</td>\n",
              "      <td>Ultrabook</td>\n",
              "      <td>15.4</td>\n",
              "      <td>IPS Panel Retina Display 2880x1800</td>\n",
              "      <td>Intel Core i7 2.2GHz</td>\n",
              "      <td>16GB</td>\n",
              "      <td>256GB Flash Storage</td>\n",
              "      <td>Intel Iris Pro Graphics</td>\n",
              "      <td>Mac OS X</td>\n",
              "      <td>2.04kg</td>\n",
              "      <td>114017.6016</td>\n",
              "    </tr>\n",
              "    <tr>\n",
              "      <th>7</th>\n",
              "      <td>7</td>\n",
              "      <td>Apple</td>\n",
              "      <td>Ultrabook</td>\n",
              "      <td>13.3</td>\n",
              "      <td>1440x900</td>\n",
              "      <td>Intel Core i5 1.8GHz</td>\n",
              "      <td>8GB</td>\n",
              "      <td>256GB Flash Storage</td>\n",
              "      <td>Intel HD Graphics 6000</td>\n",
              "      <td>macOS</td>\n",
              "      <td>1.34kg</td>\n",
              "      <td>61735.5360</td>\n",
              "    </tr>\n",
              "    <tr>\n",
              "      <th>8</th>\n",
              "      <td>8</td>\n",
              "      <td>Asus</td>\n",
              "      <td>Ultrabook</td>\n",
              "      <td>14.0</td>\n",
              "      <td>Full HD 1920x1080</td>\n",
              "      <td>Intel Core i7 8550U 1.8GHz</td>\n",
              "      <td>16GB</td>\n",
              "      <td>512GB SSD</td>\n",
              "      <td>Nvidia GeForce MX150</td>\n",
              "      <td>Windows 10</td>\n",
              "      <td>1.3kg</td>\n",
              "      <td>79653.6000</td>\n",
              "    </tr>\n",
              "    <tr>\n",
              "      <th>9</th>\n",
              "      <td>9</td>\n",
              "      <td>Acer</td>\n",
              "      <td>Ultrabook</td>\n",
              "      <td>14.0</td>\n",
              "      <td>IPS Panel Full HD 1920x1080</td>\n",
              "      <td>Intel Core i5 8250U 1.6GHz</td>\n",
              "      <td>8GB</td>\n",
              "      <td>256GB SSD</td>\n",
              "      <td>Intel UHD Graphics 620</td>\n",
              "      <td>Windows 10</td>\n",
              "      <td>1.6kg</td>\n",
              "      <td>41025.6000</td>\n",
              "    </tr>\n",
              "  </tbody>\n",
              "</table>\n",
              "</div>\n",
              "    <div class=\"colab-df-buttons\">\n",
              "\n",
              "  <div class=\"colab-df-container\">\n",
              "    <button class=\"colab-df-convert\" onclick=\"convertToInteractive('df-fe8ba025-770c-4f1b-b2d7-affeafabdf3f')\"\n",
              "            title=\"Convert this dataframe to an interactive table.\"\n",
              "            style=\"display:none;\">\n",
              "\n",
              "  <svg xmlns=\"http://www.w3.org/2000/svg\" height=\"24px\" viewBox=\"0 -960 960 960\">\n",
              "    <path d=\"M120-120v-720h720v720H120Zm60-500h600v-160H180v160Zm220 220h160v-160H400v160Zm0 220h160v-160H400v160ZM180-400h160v-160H180v160Zm440 0h160v-160H620v160ZM180-180h160v-160H180v160Zm440 0h160v-160H620v160Z\"/>\n",
              "  </svg>\n",
              "    </button>\n",
              "\n",
              "  <style>\n",
              "    .colab-df-container {\n",
              "      display:flex;\n",
              "      gap: 12px;\n",
              "    }\n",
              "\n",
              "    .colab-df-convert {\n",
              "      background-color: #E8F0FE;\n",
              "      border: none;\n",
              "      border-radius: 50%;\n",
              "      cursor: pointer;\n",
              "      display: none;\n",
              "      fill: #1967D2;\n",
              "      height: 32px;\n",
              "      padding: 0 0 0 0;\n",
              "      width: 32px;\n",
              "    }\n",
              "\n",
              "    .colab-df-convert:hover {\n",
              "      background-color: #E2EBFA;\n",
              "      box-shadow: 0px 1px 2px rgba(60, 64, 67, 0.3), 0px 1px 3px 1px rgba(60, 64, 67, 0.15);\n",
              "      fill: #174EA6;\n",
              "    }\n",
              "\n",
              "    .colab-df-buttons div {\n",
              "      margin-bottom: 4px;\n",
              "    }\n",
              "\n",
              "    [theme=dark] .colab-df-convert {\n",
              "      background-color: #3B4455;\n",
              "      fill: #D2E3FC;\n",
              "    }\n",
              "\n",
              "    [theme=dark] .colab-df-convert:hover {\n",
              "      background-color: #434B5C;\n",
              "      box-shadow: 0px 1px 3px 1px rgba(0, 0, 0, 0.15);\n",
              "      filter: drop-shadow(0px 1px 2px rgba(0, 0, 0, 0.3));\n",
              "      fill: #FFFFFF;\n",
              "    }\n",
              "  </style>\n",
              "\n",
              "    <script>\n",
              "      const buttonEl =\n",
              "        document.querySelector('#df-fe8ba025-770c-4f1b-b2d7-affeafabdf3f button.colab-df-convert');\n",
              "      buttonEl.style.display =\n",
              "        google.colab.kernel.accessAllowed ? 'block' : 'none';\n",
              "\n",
              "      async function convertToInteractive(key) {\n",
              "        const element = document.querySelector('#df-fe8ba025-770c-4f1b-b2d7-affeafabdf3f');\n",
              "        const dataTable =\n",
              "          await google.colab.kernel.invokeFunction('convertToInteractive',\n",
              "                                                    [key], {});\n",
              "        if (!dataTable) return;\n",
              "\n",
              "        const docLinkHtml = 'Like what you see? Visit the ' +\n",
              "          '<a target=\"_blank\" href=https://colab.research.google.com/notebooks/data_table.ipynb>data table notebook</a>'\n",
              "          + ' to learn more about interactive tables.';\n",
              "        element.innerHTML = '';\n",
              "        dataTable['output_type'] = 'display_data';\n",
              "        await google.colab.output.renderOutput(dataTable, element);\n",
              "        const docLink = document.createElement('div');\n",
              "        docLink.innerHTML = docLinkHtml;\n",
              "        element.appendChild(docLink);\n",
              "      }\n",
              "    </script>\n",
              "  </div>\n",
              "\n",
              "\n",
              "<div id=\"df-7a506d47-85c5-44fe-beaf-a8a5a50bdd6e\">\n",
              "  <button class=\"colab-df-quickchart\" onclick=\"quickchart('df-7a506d47-85c5-44fe-beaf-a8a5a50bdd6e')\"\n",
              "            title=\"Suggest charts\"\n",
              "            style=\"display:none;\">\n",
              "\n",
              "<svg xmlns=\"http://www.w3.org/2000/svg\" height=\"24px\"viewBox=\"0 0 24 24\"\n",
              "     width=\"24px\">\n",
              "    <g>\n",
              "        <path d=\"M19 3H5c-1.1 0-2 .9-2 2v14c0 1.1.9 2 2 2h14c1.1 0 2-.9 2-2V5c0-1.1-.9-2-2-2zM9 17H7v-7h2v7zm4 0h-2V7h2v10zm4 0h-2v-4h2v4z\"/>\n",
              "    </g>\n",
              "</svg>\n",
              "  </button>\n",
              "\n",
              "<style>\n",
              "  .colab-df-quickchart {\n",
              "      --bg-color: #E8F0FE;\n",
              "      --fill-color: #1967D2;\n",
              "      --hover-bg-color: #E2EBFA;\n",
              "      --hover-fill-color: #174EA6;\n",
              "      --disabled-fill-color: #AAA;\n",
              "      --disabled-bg-color: #DDD;\n",
              "  }\n",
              "\n",
              "  [theme=dark] .colab-df-quickchart {\n",
              "      --bg-color: #3B4455;\n",
              "      --fill-color: #D2E3FC;\n",
              "      --hover-bg-color: #434B5C;\n",
              "      --hover-fill-color: #FFFFFF;\n",
              "      --disabled-bg-color: #3B4455;\n",
              "      --disabled-fill-color: #666;\n",
              "  }\n",
              "\n",
              "  .colab-df-quickchart {\n",
              "    background-color: var(--bg-color);\n",
              "    border: none;\n",
              "    border-radius: 50%;\n",
              "    cursor: pointer;\n",
              "    display: none;\n",
              "    fill: var(--fill-color);\n",
              "    height: 32px;\n",
              "    padding: 0;\n",
              "    width: 32px;\n",
              "  }\n",
              "\n",
              "  .colab-df-quickchart:hover {\n",
              "    background-color: var(--hover-bg-color);\n",
              "    box-shadow: 0 1px 2px rgba(60, 64, 67, 0.3), 0 1px 3px 1px rgba(60, 64, 67, 0.15);\n",
              "    fill: var(--button-hover-fill-color);\n",
              "  }\n",
              "\n",
              "  .colab-df-quickchart-complete:disabled,\n",
              "  .colab-df-quickchart-complete:disabled:hover {\n",
              "    background-color: var(--disabled-bg-color);\n",
              "    fill: var(--disabled-fill-color);\n",
              "    box-shadow: none;\n",
              "  }\n",
              "\n",
              "  .colab-df-spinner {\n",
              "    border: 2px solid var(--fill-color);\n",
              "    border-color: transparent;\n",
              "    border-bottom-color: var(--fill-color);\n",
              "    animation:\n",
              "      spin 1s steps(1) infinite;\n",
              "  }\n",
              "\n",
              "  @keyframes spin {\n",
              "    0% {\n",
              "      border-color: transparent;\n",
              "      border-bottom-color: var(--fill-color);\n",
              "      border-left-color: var(--fill-color);\n",
              "    }\n",
              "    20% {\n",
              "      border-color: transparent;\n",
              "      border-left-color: var(--fill-color);\n",
              "      border-top-color: var(--fill-color);\n",
              "    }\n",
              "    30% {\n",
              "      border-color: transparent;\n",
              "      border-left-color: var(--fill-color);\n",
              "      border-top-color: var(--fill-color);\n",
              "      border-right-color: var(--fill-color);\n",
              "    }\n",
              "    40% {\n",
              "      border-color: transparent;\n",
              "      border-right-color: var(--fill-color);\n",
              "      border-top-color: var(--fill-color);\n",
              "    }\n",
              "    60% {\n",
              "      border-color: transparent;\n",
              "      border-right-color: var(--fill-color);\n",
              "    }\n",
              "    80% {\n",
              "      border-color: transparent;\n",
              "      border-right-color: var(--fill-color);\n",
              "      border-bottom-color: var(--fill-color);\n",
              "    }\n",
              "    90% {\n",
              "      border-color: transparent;\n",
              "      border-bottom-color: var(--fill-color);\n",
              "    }\n",
              "  }\n",
              "</style>\n",
              "\n",
              "  <script>\n",
              "    async function quickchart(key) {\n",
              "      const quickchartButtonEl =\n",
              "        document.querySelector('#' + key + ' button');\n",
              "      quickchartButtonEl.disabled = true;  // To prevent multiple clicks.\n",
              "      quickchartButtonEl.classList.add('colab-df-spinner');\n",
              "      try {\n",
              "        const charts = await google.colab.kernel.invokeFunction(\n",
              "            'suggestCharts', [key], {});\n",
              "      } catch (error) {\n",
              "        console.error('Error during call to suggestCharts:', error);\n",
              "      }\n",
              "      quickchartButtonEl.classList.remove('colab-df-spinner');\n",
              "      quickchartButtonEl.classList.add('colab-df-quickchart-complete');\n",
              "    }\n",
              "    (() => {\n",
              "      let quickchartButtonEl =\n",
              "        document.querySelector('#df-7a506d47-85c5-44fe-beaf-a8a5a50bdd6e button');\n",
              "      quickchartButtonEl.style.display =\n",
              "        google.colab.kernel.accessAllowed ? 'block' : 'none';\n",
              "    })();\n",
              "  </script>\n",
              "</div>\n",
              "\n",
              "    </div>\n",
              "  </div>\n"
            ],
            "text/plain": [
              "   Unnamed: 0 Company   TypeName  Inches                    ScreenResolution  \\\n",
              "0           0   Apple  Ultrabook    13.3  IPS Panel Retina Display 2560x1600   \n",
              "1           1   Apple  Ultrabook    13.3                            1440x900   \n",
              "2           2      HP   Notebook    15.6                   Full HD 1920x1080   \n",
              "3           3   Apple  Ultrabook    15.4  IPS Panel Retina Display 2880x1800   \n",
              "4           4   Apple  Ultrabook    13.3  IPS Panel Retina Display 2560x1600   \n",
              "5           5    Acer   Notebook    15.6                            1366x768   \n",
              "6           6   Apple  Ultrabook    15.4  IPS Panel Retina Display 2880x1800   \n",
              "7           7   Apple  Ultrabook    13.3                            1440x900   \n",
              "8           8    Asus  Ultrabook    14.0                   Full HD 1920x1080   \n",
              "9           9    Acer  Ultrabook    14.0         IPS Panel Full HD 1920x1080   \n",
              "\n",
              "                          Cpu   Ram               Memory  \\\n",
              "0        Intel Core i5 2.3GHz   8GB            128GB SSD   \n",
              "1        Intel Core i5 1.8GHz   8GB  128GB Flash Storage   \n",
              "2  Intel Core i5 7200U 2.5GHz   8GB            256GB SSD   \n",
              "3        Intel Core i7 2.7GHz  16GB            512GB SSD   \n",
              "4        Intel Core i5 3.1GHz   8GB            256GB SSD   \n",
              "5     AMD A9-Series 9420 3GHz   4GB            500GB HDD   \n",
              "6        Intel Core i7 2.2GHz  16GB  256GB Flash Storage   \n",
              "7        Intel Core i5 1.8GHz   8GB  256GB Flash Storage   \n",
              "8  Intel Core i7 8550U 1.8GHz  16GB            512GB SSD   \n",
              "9  Intel Core i5 8250U 1.6GHz   8GB            256GB SSD   \n",
              "\n",
              "                            Gpu       OpSys  Weight        Price  \n",
              "0  Intel Iris Plus Graphics 640       macOS  1.37kg   71378.6832  \n",
              "1        Intel HD Graphics 6000       macOS  1.34kg   47895.5232  \n",
              "2         Intel HD Graphics 620       No OS  1.86kg   30636.0000  \n",
              "3            AMD Radeon Pro 455       macOS  1.83kg  135195.3360  \n",
              "4  Intel Iris Plus Graphics 650       macOS  1.37kg   96095.8080  \n",
              "5                 AMD Radeon R5  Windows 10   2.1kg   21312.0000  \n",
              "6       Intel Iris Pro Graphics    Mac OS X  2.04kg  114017.6016  \n",
              "7        Intel HD Graphics 6000       macOS  1.34kg   61735.5360  \n",
              "8          Nvidia GeForce MX150  Windows 10   1.3kg   79653.6000  \n",
              "9        Intel UHD Graphics 620  Windows 10   1.6kg   41025.6000  "
            ]
          },
          "execution_count": 65,
          "metadata": {},
          "output_type": "execute_result"
        }
      ],
      "source": [
        "df_uncleaned.head(10)"
      ]
    },
    {
      "cell_type": "markdown",
      "metadata": {
        "id": "s68A0R2FfK92"
      },
      "source": [
        "#**Dữ liệu sau khi làm sạch**"
      ]
    },
    {
      "cell_type": "code",
      "execution_count": 66,
      "metadata": {
        "colab": {
          "base_uri": "https://localhost:8080/",
          "height": 394
        },
        "id": "kGJkGdZEfTUT",
        "outputId": "4bfbf5f0-d770-4d34-bf77-281a0f2bd454"
      },
      "outputs": [
        {
          "data": {
            "application/vnd.google.colaboratory.intrinsic+json": {
              "summary": "{\n  \"name\": \"df\",\n  \"rows\": 1303,\n  \"fields\": [\n    {\n      \"column\": \"index\",\n      \"properties\": {\n        \"dtype\": \"number\",\n        \"std\": 376,\n        \"min\": 0,\n        \"max\": 1302,\n        \"num_unique_values\": 1303,\n        \"samples\": [\n          479,\n          1022,\n          298\n        ],\n        \"semantic_type\": \"\",\n        \"description\": \"\"\n      }\n    },\n    {\n      \"column\": \"Company\",\n      \"properties\": {\n        \"dtype\": \"category\",\n        \"num_unique_values\": 19,\n        \"samples\": [\n          \"APPLE\",\n          \"LENOVO\",\n          \"XIAOMI\"\n        ],\n        \"semantic_type\": \"\",\n        \"description\": \"\"\n      }\n    },\n    {\n      \"column\": \"TypeName\",\n      \"properties\": {\n        \"dtype\": \"category\",\n        \"num_unique_values\": 6,\n        \"samples\": [\n          \"ULTRABOOK\",\n          \"NOTEBOOK\",\n          \"WORKSTATION\"\n        ],\n        \"semantic_type\": \"\",\n        \"description\": \"\"\n      }\n    },\n    {\n      \"column\": \"Inches\",\n      \"properties\": {\n        \"dtype\": \"number\",\n        \"std\": 1.4263040545691645,\n        \"min\": 10.1,\n        \"max\": 18.4,\n        \"num_unique_values\": 18,\n        \"samples\": [\n          13.3,\n          15.6,\n          13.5\n        ],\n        \"semantic_type\": \"\",\n        \"description\": \"\"\n      }\n    },\n    {\n      \"column\": \"ScreenResolution\",\n      \"properties\": {\n        \"dtype\": \"category\",\n        \"num_unique_values\": 15,\n        \"samples\": [\n          \"3840x2160\",\n          \"2560x1440\",\n          \"2560x1600\"\n        ],\n        \"semantic_type\": \"\",\n        \"description\": \"\"\n      }\n    },\n    {\n      \"column\": \"Cpu\",\n      \"properties\": {\n        \"dtype\": \"number\",\n        \"std\": 0.5063404707070551,\n        \"min\": 0.9,\n        \"max\": 3.6,\n        \"num_unique_values\": 25,\n        \"samples\": [\n          2.0,\n          1.1,\n          2.3\n        ],\n        \"semantic_type\": \"\",\n        \"description\": \"\"\n      }\n    },\n    {\n      \"column\": \"Ram\",\n      \"properties\": {\n        \"dtype\": \"number\",\n        \"std\": 5.084664673370259,\n        \"min\": 2.0,\n        \"max\": 64.0,\n        \"num_unique_values\": 9,\n        \"samples\": [\n          24.0,\n          16.0,\n          6.0\n        ],\n        \"semantic_type\": \"\",\n        \"description\": \"\"\n      }\n    },\n    {\n      \"column\": \"Memory\",\n      \"properties\": {\n        \"dtype\": \"number\",\n        \"std\": 479.7334418908728,\n        \"min\": 8.0,\n        \"max\": 2560.0,\n        \"num_unique_values\": 22,\n        \"samples\": [\n          128.0,\n          2176.0,\n          1280.0\n        ],\n        \"semantic_type\": \"\",\n        \"description\": \"\"\n      }\n    },\n    {\n      \"column\": \"Gpu\",\n      \"properties\": {\n        \"dtype\": \"category\",\n        \"num_unique_values\": 110,\n        \"samples\": [\n          \"AMD Radeon R7\",\n          \"AMD Radeon Pro 555\",\n          \"Intel Iris Plus Graphics 650\"\n        ],\n        \"semantic_type\": \"\",\n        \"description\": \"\"\n      }\n    },\n    {\n      \"column\": \"OpSys\",\n      \"properties\": {\n        \"dtype\": \"category\",\n        \"num_unique_values\": 9,\n        \"samples\": [\n          \"CHROME OS\",\n          \"NO OS\",\n          \"ANDROID\"\n        ],\n        \"semantic_type\": \"\",\n        \"description\": \"\"\n      }\n    },\n    {\n      \"column\": \"Weight\",\n      \"properties\": {\n        \"dtype\": \"number\",\n        \"std\": 0.6654745997032399,\n        \"min\": 0.69,\n        \"max\": 4.7,\n        \"num_unique_values\": 171,\n        \"samples\": [\n          2.6,\n          2.05,\n          1.32\n        ],\n        \"semantic_type\": \"\",\n        \"description\": \"\"\n      }\n    },\n    {\n      \"column\": \"Price\",\n      \"properties\": {\n        \"dtype\": \"number\",\n        \"std\": 37243.20181922279,\n        \"min\": 9270.72,\n        \"max\": 324954.72,\n        \"num_unique_values\": 791,\n        \"samples\": [\n          68837.76,\n          20725.92,\n          95797.44\n        ],\n        \"semantic_type\": \"\",\n        \"description\": \"\"\n      }\n    }\n  ]\n}",
              "type": "dataframe",
              "variable_name": "df"
            },
            "text/html": [
              "\n",
              "  <div id=\"df-fbe0120b-eed0-439e-9769-1c60ab765b1d\" class=\"colab-df-container\">\n",
              "    <div>\n",
              "<style scoped>\n",
              "    .dataframe tbody tr th:only-of-type {\n",
              "        vertical-align: middle;\n",
              "    }\n",
              "\n",
              "    .dataframe tbody tr th {\n",
              "        vertical-align: top;\n",
              "    }\n",
              "\n",
              "    .dataframe thead th {\n",
              "        text-align: right;\n",
              "    }\n",
              "</style>\n",
              "<table border=\"1\" class=\"dataframe\">\n",
              "  <thead>\n",
              "    <tr style=\"text-align: right;\">\n",
              "      <th></th>\n",
              "      <th>Company</th>\n",
              "      <th>TypeName</th>\n",
              "      <th>Inches</th>\n",
              "      <th>ScreenResolution</th>\n",
              "      <th>Cpu</th>\n",
              "      <th>Ram</th>\n",
              "      <th>Memory</th>\n",
              "      <th>Gpu</th>\n",
              "      <th>OpSys</th>\n",
              "      <th>Weight</th>\n",
              "      <th>Price</th>\n",
              "    </tr>\n",
              "    <tr>\n",
              "      <th>index</th>\n",
              "      <th></th>\n",
              "      <th></th>\n",
              "      <th></th>\n",
              "      <th></th>\n",
              "      <th></th>\n",
              "      <th></th>\n",
              "      <th></th>\n",
              "      <th></th>\n",
              "      <th></th>\n",
              "      <th></th>\n",
              "      <th></th>\n",
              "    </tr>\n",
              "  </thead>\n",
              "  <tbody>\n",
              "    <tr>\n",
              "      <th>0</th>\n",
              "      <td>APPLE</td>\n",
              "      <td>ULTRABOOK</td>\n",
              "      <td>13.3</td>\n",
              "      <td>2560x1600</td>\n",
              "      <td>2.3</td>\n",
              "      <td>8.0</td>\n",
              "      <td>128.0</td>\n",
              "      <td>Intel Iris Plus Graphics 640</td>\n",
              "      <td>MACOS</td>\n",
              "      <td>1.37</td>\n",
              "      <td>71378.68</td>\n",
              "    </tr>\n",
              "    <tr>\n",
              "      <th>1</th>\n",
              "      <td>APPLE</td>\n",
              "      <td>ULTRABOOK</td>\n",
              "      <td>13.3</td>\n",
              "      <td>1440x900</td>\n",
              "      <td>1.8</td>\n",
              "      <td>8.0</td>\n",
              "      <td>128.0</td>\n",
              "      <td>Intel HD Graphics 6000</td>\n",
              "      <td>MACOS</td>\n",
              "      <td>1.34</td>\n",
              "      <td>47895.52</td>\n",
              "    </tr>\n",
              "    <tr>\n",
              "      <th>2</th>\n",
              "      <td>HP</td>\n",
              "      <td>NOTEBOOK</td>\n",
              "      <td>15.6</td>\n",
              "      <td>1920x1080</td>\n",
              "      <td>2.5</td>\n",
              "      <td>8.0</td>\n",
              "      <td>256.0</td>\n",
              "      <td>Intel HD Graphics 620</td>\n",
              "      <td>NO OS</td>\n",
              "      <td>1.86</td>\n",
              "      <td>30636.00</td>\n",
              "    </tr>\n",
              "    <tr>\n",
              "      <th>3</th>\n",
              "      <td>APPLE</td>\n",
              "      <td>ULTRABOOK</td>\n",
              "      <td>15.4</td>\n",
              "      <td>2880x1800</td>\n",
              "      <td>2.7</td>\n",
              "      <td>16.0</td>\n",
              "      <td>512.0</td>\n",
              "      <td>AMD Radeon Pro 455</td>\n",
              "      <td>MACOS</td>\n",
              "      <td>1.83</td>\n",
              "      <td>135195.34</td>\n",
              "    </tr>\n",
              "    <tr>\n",
              "      <th>4</th>\n",
              "      <td>APPLE</td>\n",
              "      <td>ULTRABOOK</td>\n",
              "      <td>13.3</td>\n",
              "      <td>2560x1600</td>\n",
              "      <td>3.1</td>\n",
              "      <td>8.0</td>\n",
              "      <td>256.0</td>\n",
              "      <td>Intel Iris Plus Graphics 650</td>\n",
              "      <td>MACOS</td>\n",
              "      <td>1.37</td>\n",
              "      <td>96095.81</td>\n",
              "    </tr>\n",
              "    <tr>\n",
              "      <th>5</th>\n",
              "      <td>ACER</td>\n",
              "      <td>NOTEBOOK</td>\n",
              "      <td>15.6</td>\n",
              "      <td>1366x768</td>\n",
              "      <td>3.0</td>\n",
              "      <td>4.0</td>\n",
              "      <td>500.0</td>\n",
              "      <td>AMD Radeon R5</td>\n",
              "      <td>WINDOWS 10</td>\n",
              "      <td>2.10</td>\n",
              "      <td>21312.00</td>\n",
              "    </tr>\n",
              "    <tr>\n",
              "      <th>6</th>\n",
              "      <td>APPLE</td>\n",
              "      <td>ULTRABOOK</td>\n",
              "      <td>15.4</td>\n",
              "      <td>2880x1800</td>\n",
              "      <td>2.2</td>\n",
              "      <td>16.0</td>\n",
              "      <td>256.0</td>\n",
              "      <td>Intel Iris Pro Graphics</td>\n",
              "      <td>MAC OS X</td>\n",
              "      <td>2.04</td>\n",
              "      <td>114017.60</td>\n",
              "    </tr>\n",
              "    <tr>\n",
              "      <th>7</th>\n",
              "      <td>APPLE</td>\n",
              "      <td>ULTRABOOK</td>\n",
              "      <td>13.3</td>\n",
              "      <td>1440x900</td>\n",
              "      <td>1.8</td>\n",
              "      <td>8.0</td>\n",
              "      <td>256.0</td>\n",
              "      <td>Intel HD Graphics 6000</td>\n",
              "      <td>MACOS</td>\n",
              "      <td>1.34</td>\n",
              "      <td>61735.54</td>\n",
              "    </tr>\n",
              "    <tr>\n",
              "      <th>8</th>\n",
              "      <td>ASUS</td>\n",
              "      <td>ULTRABOOK</td>\n",
              "      <td>14.0</td>\n",
              "      <td>1920x1080</td>\n",
              "      <td>1.8</td>\n",
              "      <td>16.0</td>\n",
              "      <td>512.0</td>\n",
              "      <td>Nvidia GeForce MX150</td>\n",
              "      <td>WINDOWS 10</td>\n",
              "      <td>1.30</td>\n",
              "      <td>79653.60</td>\n",
              "    </tr>\n",
              "    <tr>\n",
              "      <th>9</th>\n",
              "      <td>ACER</td>\n",
              "      <td>ULTRABOOK</td>\n",
              "      <td>14.0</td>\n",
              "      <td>1920x1080</td>\n",
              "      <td>1.6</td>\n",
              "      <td>8.0</td>\n",
              "      <td>256.0</td>\n",
              "      <td>Intel UHD Graphics 620</td>\n",
              "      <td>WINDOWS 10</td>\n",
              "      <td>1.60</td>\n",
              "      <td>41025.60</td>\n",
              "    </tr>\n",
              "  </tbody>\n",
              "</table>\n",
              "</div>\n",
              "    <div class=\"colab-df-buttons\">\n",
              "\n",
              "  <div class=\"colab-df-container\">\n",
              "    <button class=\"colab-df-convert\" onclick=\"convertToInteractive('df-fbe0120b-eed0-439e-9769-1c60ab765b1d')\"\n",
              "            title=\"Convert this dataframe to an interactive table.\"\n",
              "            style=\"display:none;\">\n",
              "\n",
              "  <svg xmlns=\"http://www.w3.org/2000/svg\" height=\"24px\" viewBox=\"0 -960 960 960\">\n",
              "    <path d=\"M120-120v-720h720v720H120Zm60-500h600v-160H180v160Zm220 220h160v-160H400v160Zm0 220h160v-160H400v160ZM180-400h160v-160H180v160Zm440 0h160v-160H620v160ZM180-180h160v-160H180v160Zm440 0h160v-160H620v160Z\"/>\n",
              "  </svg>\n",
              "    </button>\n",
              "\n",
              "  <style>\n",
              "    .colab-df-container {\n",
              "      display:flex;\n",
              "      gap: 12px;\n",
              "    }\n",
              "\n",
              "    .colab-df-convert {\n",
              "      background-color: #E8F0FE;\n",
              "      border: none;\n",
              "      border-radius: 50%;\n",
              "      cursor: pointer;\n",
              "      display: none;\n",
              "      fill: #1967D2;\n",
              "      height: 32px;\n",
              "      padding: 0 0 0 0;\n",
              "      width: 32px;\n",
              "    }\n",
              "\n",
              "    .colab-df-convert:hover {\n",
              "      background-color: #E2EBFA;\n",
              "      box-shadow: 0px 1px 2px rgba(60, 64, 67, 0.3), 0px 1px 3px 1px rgba(60, 64, 67, 0.15);\n",
              "      fill: #174EA6;\n",
              "    }\n",
              "\n",
              "    .colab-df-buttons div {\n",
              "      margin-bottom: 4px;\n",
              "    }\n",
              "\n",
              "    [theme=dark] .colab-df-convert {\n",
              "      background-color: #3B4455;\n",
              "      fill: #D2E3FC;\n",
              "    }\n",
              "\n",
              "    [theme=dark] .colab-df-convert:hover {\n",
              "      background-color: #434B5C;\n",
              "      box-shadow: 0px 1px 3px 1px rgba(0, 0, 0, 0.15);\n",
              "      filter: drop-shadow(0px 1px 2px rgba(0, 0, 0, 0.3));\n",
              "      fill: #FFFFFF;\n",
              "    }\n",
              "  </style>\n",
              "\n",
              "    <script>\n",
              "      const buttonEl =\n",
              "        document.querySelector('#df-fbe0120b-eed0-439e-9769-1c60ab765b1d button.colab-df-convert');\n",
              "      buttonEl.style.display =\n",
              "        google.colab.kernel.accessAllowed ? 'block' : 'none';\n",
              "\n",
              "      async function convertToInteractive(key) {\n",
              "        const element = document.querySelector('#df-fbe0120b-eed0-439e-9769-1c60ab765b1d');\n",
              "        const dataTable =\n",
              "          await google.colab.kernel.invokeFunction('convertToInteractive',\n",
              "                                                    [key], {});\n",
              "        if (!dataTable) return;\n",
              "\n",
              "        const docLinkHtml = 'Like what you see? Visit the ' +\n",
              "          '<a target=\"_blank\" href=https://colab.research.google.com/notebooks/data_table.ipynb>data table notebook</a>'\n",
              "          + ' to learn more about interactive tables.';\n",
              "        element.innerHTML = '';\n",
              "        dataTable['output_type'] = 'display_data';\n",
              "        await google.colab.output.renderOutput(dataTable, element);\n",
              "        const docLink = document.createElement('div');\n",
              "        docLink.innerHTML = docLinkHtml;\n",
              "        element.appendChild(docLink);\n",
              "      }\n",
              "    </script>\n",
              "  </div>\n",
              "\n",
              "\n",
              "<div id=\"df-bc75c689-2913-4067-9379-aa11c0da586a\">\n",
              "  <button class=\"colab-df-quickchart\" onclick=\"quickchart('df-bc75c689-2913-4067-9379-aa11c0da586a')\"\n",
              "            title=\"Suggest charts\"\n",
              "            style=\"display:none;\">\n",
              "\n",
              "<svg xmlns=\"http://www.w3.org/2000/svg\" height=\"24px\"viewBox=\"0 0 24 24\"\n",
              "     width=\"24px\">\n",
              "    <g>\n",
              "        <path d=\"M19 3H5c-1.1 0-2 .9-2 2v14c0 1.1.9 2 2 2h14c1.1 0 2-.9 2-2V5c0-1.1-.9-2-2-2zM9 17H7v-7h2v7zm4 0h-2V7h2v10zm4 0h-2v-4h2v4z\"/>\n",
              "    </g>\n",
              "</svg>\n",
              "  </button>\n",
              "\n",
              "<style>\n",
              "  .colab-df-quickchart {\n",
              "      --bg-color: #E8F0FE;\n",
              "      --fill-color: #1967D2;\n",
              "      --hover-bg-color: #E2EBFA;\n",
              "      --hover-fill-color: #174EA6;\n",
              "      --disabled-fill-color: #AAA;\n",
              "      --disabled-bg-color: #DDD;\n",
              "  }\n",
              "\n",
              "  [theme=dark] .colab-df-quickchart {\n",
              "      --bg-color: #3B4455;\n",
              "      --fill-color: #D2E3FC;\n",
              "      --hover-bg-color: #434B5C;\n",
              "      --hover-fill-color: #FFFFFF;\n",
              "      --disabled-bg-color: #3B4455;\n",
              "      --disabled-fill-color: #666;\n",
              "  }\n",
              "\n",
              "  .colab-df-quickchart {\n",
              "    background-color: var(--bg-color);\n",
              "    border: none;\n",
              "    border-radius: 50%;\n",
              "    cursor: pointer;\n",
              "    display: none;\n",
              "    fill: var(--fill-color);\n",
              "    height: 32px;\n",
              "    padding: 0;\n",
              "    width: 32px;\n",
              "  }\n",
              "\n",
              "  .colab-df-quickchart:hover {\n",
              "    background-color: var(--hover-bg-color);\n",
              "    box-shadow: 0 1px 2px rgba(60, 64, 67, 0.3), 0 1px 3px 1px rgba(60, 64, 67, 0.15);\n",
              "    fill: var(--button-hover-fill-color);\n",
              "  }\n",
              "\n",
              "  .colab-df-quickchart-complete:disabled,\n",
              "  .colab-df-quickchart-complete:disabled:hover {\n",
              "    background-color: var(--disabled-bg-color);\n",
              "    fill: var(--disabled-fill-color);\n",
              "    box-shadow: none;\n",
              "  }\n",
              "\n",
              "  .colab-df-spinner {\n",
              "    border: 2px solid var(--fill-color);\n",
              "    border-color: transparent;\n",
              "    border-bottom-color: var(--fill-color);\n",
              "    animation:\n",
              "      spin 1s steps(1) infinite;\n",
              "  }\n",
              "\n",
              "  @keyframes spin {\n",
              "    0% {\n",
              "      border-color: transparent;\n",
              "      border-bottom-color: var(--fill-color);\n",
              "      border-left-color: var(--fill-color);\n",
              "    }\n",
              "    20% {\n",
              "      border-color: transparent;\n",
              "      border-left-color: var(--fill-color);\n",
              "      border-top-color: var(--fill-color);\n",
              "    }\n",
              "    30% {\n",
              "      border-color: transparent;\n",
              "      border-left-color: var(--fill-color);\n",
              "      border-top-color: var(--fill-color);\n",
              "      border-right-color: var(--fill-color);\n",
              "    }\n",
              "    40% {\n",
              "      border-color: transparent;\n",
              "      border-right-color: var(--fill-color);\n",
              "      border-top-color: var(--fill-color);\n",
              "    }\n",
              "    60% {\n",
              "      border-color: transparent;\n",
              "      border-right-color: var(--fill-color);\n",
              "    }\n",
              "    80% {\n",
              "      border-color: transparent;\n",
              "      border-right-color: var(--fill-color);\n",
              "      border-bottom-color: var(--fill-color);\n",
              "    }\n",
              "    90% {\n",
              "      border-color: transparent;\n",
              "      border-bottom-color: var(--fill-color);\n",
              "    }\n",
              "  }\n",
              "</style>\n",
              "\n",
              "  <script>\n",
              "    async function quickchart(key) {\n",
              "      const quickchartButtonEl =\n",
              "        document.querySelector('#' + key + ' button');\n",
              "      quickchartButtonEl.disabled = true;  // To prevent multiple clicks.\n",
              "      quickchartButtonEl.classList.add('colab-df-spinner');\n",
              "      try {\n",
              "        const charts = await google.colab.kernel.invokeFunction(\n",
              "            'suggestCharts', [key], {});\n",
              "      } catch (error) {\n",
              "        console.error('Error during call to suggestCharts:', error);\n",
              "      }\n",
              "      quickchartButtonEl.classList.remove('colab-df-spinner');\n",
              "      quickchartButtonEl.classList.add('colab-df-quickchart-complete');\n",
              "    }\n",
              "    (() => {\n",
              "      let quickchartButtonEl =\n",
              "        document.querySelector('#df-bc75c689-2913-4067-9379-aa11c0da586a button');\n",
              "      quickchartButtonEl.style.display =\n",
              "        google.colab.kernel.accessAllowed ? 'block' : 'none';\n",
              "    })();\n",
              "  </script>\n",
              "</div>\n",
              "\n",
              "    </div>\n",
              "  </div>\n"
            ],
            "text/plain": [
              "      Company   TypeName  Inches ScreenResolution  Cpu   Ram  Memory  \\\n",
              "index                                                                  \n",
              "0       APPLE  ULTRABOOK    13.3        2560x1600  2.3   8.0   128.0   \n",
              "1       APPLE  ULTRABOOK    13.3         1440x900  1.8   8.0   128.0   \n",
              "2          HP   NOTEBOOK    15.6        1920x1080  2.5   8.0   256.0   \n",
              "3       APPLE  ULTRABOOK    15.4        2880x1800  2.7  16.0   512.0   \n",
              "4       APPLE  ULTRABOOK    13.3        2560x1600  3.1   8.0   256.0   \n",
              "5        ACER   NOTEBOOK    15.6         1366x768  3.0   4.0   500.0   \n",
              "6       APPLE  ULTRABOOK    15.4        2880x1800  2.2  16.0   256.0   \n",
              "7       APPLE  ULTRABOOK    13.3         1440x900  1.8   8.0   256.0   \n",
              "8        ASUS  ULTRABOOK    14.0        1920x1080  1.8  16.0   512.0   \n",
              "9        ACER  ULTRABOOK    14.0        1920x1080  1.6   8.0   256.0   \n",
              "\n",
              "                                Gpu       OpSys  Weight      Price  \n",
              "index                                                               \n",
              "0      Intel Iris Plus Graphics 640       MACOS    1.37   71378.68  \n",
              "1            Intel HD Graphics 6000       MACOS    1.34   47895.52  \n",
              "2             Intel HD Graphics 620       NO OS    1.86   30636.00  \n",
              "3                AMD Radeon Pro 455       MACOS    1.83  135195.34  \n",
              "4      Intel Iris Plus Graphics 650       MACOS    1.37   96095.81  \n",
              "5                     AMD Radeon R5  WINDOWS 10    2.10   21312.00  \n",
              "6           Intel Iris Pro Graphics    MAC OS X    2.04  114017.60  \n",
              "7            Intel HD Graphics 6000       MACOS    1.34   61735.54  \n",
              "8              Nvidia GeForce MX150  WINDOWS 10    1.30   79653.60  \n",
              "9            Intel UHD Graphics 620  WINDOWS 10    1.60   41025.60  "
            ]
          },
          "execution_count": 66,
          "metadata": {},
          "output_type": "execute_result"
        }
      ],
      "source": [
        "df.head(10)"
      ]
    },
    {
      "cell_type": "code",
      "execution_count": 67,
      "metadata": {
        "id": "ZbudGjrjfmy_"
      },
      "outputs": [],
      "source": [
        "df.to_csv(\"clean_laptop_data.csv\", index=False)"
      ]
    },
    {
      "cell_type": "code",
      "execution_count": 68,
      "metadata": {
        "id": "o0ypuxzPfbWB"
      },
      "outputs": [],
      "source": [
        "df[selected_columns] = df_scaled"
      ]
    },
    {
      "cell_type": "markdown",
      "metadata": {
        "id": "cqbohpCDaLf-"
      },
      "source": [
        "#**Dữ liệu sau khi làm sạch và chuẩn hóa hoàn tất**"
      ]
    },
    {
      "cell_type": "code",
      "execution_count": 69,
      "metadata": {
        "colab": {
          "base_uri": "https://localhost:8080/",
          "height": 394
        },
        "id": "R1T6krhBaDGr",
        "outputId": "114ae489-6129-409c-ed89-bdc27ba1f67c"
      },
      "outputs": [
        {
          "data": {
            "application/vnd.google.colaboratory.intrinsic+json": {
              "summary": "{\n  \"name\": \"df\",\n  \"rows\": 1303,\n  \"fields\": [\n    {\n      \"column\": \"index\",\n      \"properties\": {\n        \"dtype\": \"number\",\n        \"std\": 376,\n        \"min\": 0,\n        \"max\": 1302,\n        \"num_unique_values\": 1303,\n        \"samples\": [\n          479,\n          1022,\n          298\n        ],\n        \"semantic_type\": \"\",\n        \"description\": \"\"\n      }\n    },\n    {\n      \"column\": \"Company\",\n      \"properties\": {\n        \"dtype\": \"category\",\n        \"num_unique_values\": 19,\n        \"samples\": [\n          \"APPLE\",\n          \"LENOVO\",\n          \"XIAOMI\"\n        ],\n        \"semantic_type\": \"\",\n        \"description\": \"\"\n      }\n    },\n    {\n      \"column\": \"TypeName\",\n      \"properties\": {\n        \"dtype\": \"category\",\n        \"num_unique_values\": 6,\n        \"samples\": [\n          \"ULTRABOOK\",\n          \"NOTEBOOK\",\n          \"WORKSTATION\"\n        ],\n        \"semantic_type\": \"\",\n        \"description\": \"\"\n      }\n    },\n    {\n      \"column\": \"Inches\",\n      \"properties\": {\n        \"dtype\": \"number\",\n        \"std\": 1.0003839508684382,\n        \"min\": -3.44882919003228,\n        \"max\": 2.3726411799135816,\n        \"num_unique_values\": 18,\n        \"samples\": [\n          -1.2044068787278503,\n          0.4087716575222072,\n          -1.064130484271324\n        ],\n        \"semantic_type\": \"\",\n        \"description\": \"\"\n      }\n    },\n    {\n      \"column\": \"ScreenResolution\",\n      \"properties\": {\n        \"dtype\": \"category\",\n        \"num_unique_values\": 15,\n        \"samples\": [\n          \"3840x2160\",\n          \"2560x1440\",\n          \"2560x1600\"\n        ],\n        \"semantic_type\": \"\",\n        \"description\": \"\"\n      }\n    },\n    {\n      \"column\": \"Cpu\",\n      \"properties\": {\n        \"dtype\": \"number\",\n        \"std\": 1.0003839508684382,\n        \"min\": -2.7635735343483723,\n        \"max\": 2.5708542343287966,\n        \"num_unique_values\": 25,\n        \"samples\": [\n          -0.5902881471095258,\n          -2.3684307366685817,\n          0.0024260494101592586\n        ],\n        \"semantic_type\": \"\",\n        \"description\": \"\"\n      }\n    },\n    {\n      \"column\": \"Ram\",\n      \"properties\": {\n        \"dtype\": \"number\",\n        \"std\": 1.0003839508684382,\n        \"min\": -1.2556669503677904,\n        \"max\": 10.942542555694295,\n        \"num_unique_values\": 9,\n        \"samples\": [\n          3.072729971138111,\n          1.4987674542268743,\n          -0.46868569191217196\n        ],\n        \"semantic_type\": \"\",\n        \"description\": \"\"\n      }\n    },\n    {\n      \"column\": \"Memory\",\n      \"properties\": {\n        \"dtype\": \"number\",\n        \"std\": 1.0003839508684382,\n        \"min\": -1.2763966945070653,\n        \"max\": 4.045266586988729,\n        \"num_unique_values\": 22,\n        \"samples\": [\n          -1.0261617439665107,\n          3.2445147452589542,\n          1.3760937812228133\n        ],\n        \"semantic_type\": \"\",\n        \"description\": \"\"\n      }\n    },\n    {\n      \"column\": \"Gpu\",\n      \"properties\": {\n        \"dtype\": \"category\",\n        \"num_unique_values\": 110,\n        \"samples\": [\n          \"AMD Radeon R7\",\n          \"AMD Radeon Pro 555\",\n          \"Intel Iris Plus Graphics 650\"\n        ],\n        \"semantic_type\": \"\",\n        \"description\": \"\"\n      }\n    },\n    {\n      \"column\": \"OpSys\",\n      \"properties\": {\n        \"dtype\": \"category\",\n        \"num_unique_values\": 9,\n        \"samples\": [\n          \"CHROME OS\",\n          \"NO OS\",\n          \"ANDROID\"\n        ],\n        \"semantic_type\": \"\",\n        \"description\": \"\"\n      }\n    },\n    {\n      \"column\": \"Weight\",\n      \"properties\": {\n        \"dtype\": \"number\",\n        \"std\": 1.0003839508684382,\n        \"min\": -2.0275026868869457,\n        \"max\": 4.000585604944679,\n        \"num_unique_values\": 171,\n        \"samples\": [\n          0.8437313872772447,\n          0.016936235031011538,\n          -1.0804464215867153\n        ],\n        \"semantic_type\": \"\",\n        \"description\": \"\"\n      }\n    },\n    {\n      \"column\": \"Price\",\n      \"properties\": {\n        \"dtype\": \"number\",\n        \"std\": 1.0003839508684382,\n        \"min\": -1.3591406779692217,\n        \"max\": 7.1203989888633865,\n        \"num_unique_values\": 791,\n        \"samples\": [\n          0.24088047773016344,\n          -1.051444301873186,\n          0.9650403210073452\n        ],\n        \"semantic_type\": \"\",\n        \"description\": \"\"\n      }\n    }\n  ]\n}",
              "type": "dataframe",
              "variable_name": "df"
            },
            "text/html": [
              "\n",
              "  <div id=\"df-fa7674b9-1768-46ba-a75e-272e5884f70f\" class=\"colab-df-container\">\n",
              "    <div>\n",
              "<style scoped>\n",
              "    .dataframe tbody tr th:only-of-type {\n",
              "        vertical-align: middle;\n",
              "    }\n",
              "\n",
              "    .dataframe tbody tr th {\n",
              "        vertical-align: top;\n",
              "    }\n",
              "\n",
              "    .dataframe thead th {\n",
              "        text-align: right;\n",
              "    }\n",
              "</style>\n",
              "<table border=\"1\" class=\"dataframe\">\n",
              "  <thead>\n",
              "    <tr style=\"text-align: right;\">\n",
              "      <th></th>\n",
              "      <th>Company</th>\n",
              "      <th>TypeName</th>\n",
              "      <th>Inches</th>\n",
              "      <th>ScreenResolution</th>\n",
              "      <th>Cpu</th>\n",
              "      <th>Ram</th>\n",
              "      <th>Memory</th>\n",
              "      <th>Gpu</th>\n",
              "      <th>OpSys</th>\n",
              "      <th>Weight</th>\n",
              "      <th>Price</th>\n",
              "    </tr>\n",
              "    <tr>\n",
              "      <th>index</th>\n",
              "      <th></th>\n",
              "      <th></th>\n",
              "      <th></th>\n",
              "      <th></th>\n",
              "      <th></th>\n",
              "      <th></th>\n",
              "      <th></th>\n",
              "      <th></th>\n",
              "      <th></th>\n",
              "      <th></th>\n",
              "      <th></th>\n",
              "    </tr>\n",
              "  </thead>\n",
              "  <tbody>\n",
              "    <tr>\n",
              "      <th>0</th>\n",
              "      <td>APPLE</td>\n",
              "      <td>ULTRABOOK</td>\n",
              "      <td>-1.204407</td>\n",
              "      <td>2560x1600</td>\n",
              "      <td>0.002426</td>\n",
              "      <td>-0.075195</td>\n",
              "      <td>-1.026162</td>\n",
              "      <td>Intel Iris Plus Graphics 640</td>\n",
              "      <td>MACOS</td>\n",
              "      <td>-1.005283</td>\n",
              "      <td>0.309132</td>\n",
              "    </tr>\n",
              "    <tr>\n",
              "      <th>1</th>\n",
              "      <td>APPLE</td>\n",
              "      <td>ULTRABOOK</td>\n",
              "      <td>-1.204407</td>\n",
              "      <td>1440x900</td>\n",
              "      <td>-0.985431</td>\n",
              "      <td>-0.075195</td>\n",
              "      <td>-1.026162</td>\n",
              "      <td>Intel HD Graphics 6000</td>\n",
              "      <td>MACOS</td>\n",
              "      <td>-1.050381</td>\n",
              "      <td>-0.321646</td>\n",
              "    </tr>\n",
              "    <tr>\n",
              "      <th>2</th>\n",
              "      <td>HP</td>\n",
              "      <td>NOTEBOOK</td>\n",
              "      <td>0.408772</td>\n",
              "      <td>1920x1080</td>\n",
              "      <td>0.397569</td>\n",
              "      <td>-0.075195</td>\n",
              "      <td>-0.759244</td>\n",
              "      <td>Intel HD Graphics 620</td>\n",
              "      <td>NO OS</td>\n",
              "      <td>-0.268684</td>\n",
              "      <td>-0.785251</td>\n",
              "    </tr>\n",
              "    <tr>\n",
              "      <th>3</th>\n",
              "      <td>APPLE</td>\n",
              "      <td>ULTRABOOK</td>\n",
              "      <td>0.268495</td>\n",
              "      <td>2880x1800</td>\n",
              "      <td>0.792712</td>\n",
              "      <td>1.498767</td>\n",
              "      <td>-0.225410</td>\n",
              "      <td>AMD Radeon Pro 455</td>\n",
              "      <td>MACOS</td>\n",
              "      <td>-0.313782</td>\n",
              "      <td>2.023301</td>\n",
              "    </tr>\n",
              "    <tr>\n",
              "      <th>4</th>\n",
              "      <td>APPLE</td>\n",
              "      <td>ULTRABOOK</td>\n",
              "      <td>-1.204407</td>\n",
              "      <td>2560x1600</td>\n",
              "      <td>1.582997</td>\n",
              "      <td>-0.075195</td>\n",
              "      <td>-0.759244</td>\n",
              "      <td>Intel Iris Plus Graphics 650</td>\n",
              "      <td>MACOS</td>\n",
              "      <td>-1.005283</td>\n",
              "      <td>0.973055</td>\n",
              "    </tr>\n",
              "    <tr>\n",
              "      <th>5</th>\n",
              "      <td>ACER</td>\n",
              "      <td>NOTEBOOK</td>\n",
              "      <td>0.408772</td>\n",
              "      <td>1366x768</td>\n",
              "      <td>1.385426</td>\n",
              "      <td>-0.862176</td>\n",
              "      <td>-0.250433</td>\n",
              "      <td>AMD Radeon R5</td>\n",
              "      <td>WINDOWS 10</td>\n",
              "      <td>0.092099</td>\n",
              "      <td>-1.035702</td>\n",
              "    </tr>\n",
              "    <tr>\n",
              "      <th>6</th>\n",
              "      <td>APPLE</td>\n",
              "      <td>ULTRABOOK</td>\n",
              "      <td>0.268495</td>\n",
              "      <td>2880x1800</td>\n",
              "      <td>-0.195145</td>\n",
              "      <td>1.498767</td>\n",
              "      <td>-0.759244</td>\n",
              "      <td>Intel Iris Pro Graphics</td>\n",
              "      <td>MAC OS X</td>\n",
              "      <td>0.001904</td>\n",
              "      <td>1.454449</td>\n",
              "    </tr>\n",
              "    <tr>\n",
              "      <th>7</th>\n",
              "      <td>APPLE</td>\n",
              "      <td>ULTRABOOK</td>\n",
              "      <td>-1.204407</td>\n",
              "      <td>1440x900</td>\n",
              "      <td>-0.985431</td>\n",
              "      <td>-0.075195</td>\n",
              "      <td>-0.759244</td>\n",
              "      <td>Intel HD Graphics 6000</td>\n",
              "      <td>MACOS</td>\n",
              "      <td>-1.050381</td>\n",
              "      <td>0.050109</td>\n",
              "    </tr>\n",
              "    <tr>\n",
              "      <th>8</th>\n",
              "      <td>ASUS</td>\n",
              "      <td>ULTRABOOK</td>\n",
              "      <td>-0.713439</td>\n",
              "      <td>1920x1080</td>\n",
              "      <td>-0.985431</td>\n",
              "      <td>1.498767</td>\n",
              "      <td>-0.225410</td>\n",
              "      <td>Nvidia GeForce MX150</td>\n",
              "      <td>WINDOWS 10</td>\n",
              "      <td>-1.110512</td>\n",
              "      <td>0.531403</td>\n",
              "    </tr>\n",
              "    <tr>\n",
              "      <th>9</th>\n",
              "      <td>ACER</td>\n",
              "      <td>ULTRABOOK</td>\n",
              "      <td>-0.713439</td>\n",
              "      <td>1920x1080</td>\n",
              "      <td>-1.380574</td>\n",
              "      <td>-0.075195</td>\n",
              "      <td>-0.759244</td>\n",
              "      <td>Intel UHD Graphics 620</td>\n",
              "      <td>WINDOWS 10</td>\n",
              "      <td>-0.659533</td>\n",
              "      <td>-0.506178</td>\n",
              "    </tr>\n",
              "  </tbody>\n",
              "</table>\n",
              "</div>\n",
              "    <div class=\"colab-df-buttons\">\n",
              "\n",
              "  <div class=\"colab-df-container\">\n",
              "    <button class=\"colab-df-convert\" onclick=\"convertToInteractive('df-fa7674b9-1768-46ba-a75e-272e5884f70f')\"\n",
              "            title=\"Convert this dataframe to an interactive table.\"\n",
              "            style=\"display:none;\">\n",
              "\n",
              "  <svg xmlns=\"http://www.w3.org/2000/svg\" height=\"24px\" viewBox=\"0 -960 960 960\">\n",
              "    <path d=\"M120-120v-720h720v720H120Zm60-500h600v-160H180v160Zm220 220h160v-160H400v160Zm0 220h160v-160H400v160ZM180-400h160v-160H180v160Zm440 0h160v-160H620v160ZM180-180h160v-160H180v160Zm440 0h160v-160H620v160Z\"/>\n",
              "  </svg>\n",
              "    </button>\n",
              "\n",
              "  <style>\n",
              "    .colab-df-container {\n",
              "      display:flex;\n",
              "      gap: 12px;\n",
              "    }\n",
              "\n",
              "    .colab-df-convert {\n",
              "      background-color: #E8F0FE;\n",
              "      border: none;\n",
              "      border-radius: 50%;\n",
              "      cursor: pointer;\n",
              "      display: none;\n",
              "      fill: #1967D2;\n",
              "      height: 32px;\n",
              "      padding: 0 0 0 0;\n",
              "      width: 32px;\n",
              "    }\n",
              "\n",
              "    .colab-df-convert:hover {\n",
              "      background-color: #E2EBFA;\n",
              "      box-shadow: 0px 1px 2px rgba(60, 64, 67, 0.3), 0px 1px 3px 1px rgba(60, 64, 67, 0.15);\n",
              "      fill: #174EA6;\n",
              "    }\n",
              "\n",
              "    .colab-df-buttons div {\n",
              "      margin-bottom: 4px;\n",
              "    }\n",
              "\n",
              "    [theme=dark] .colab-df-convert {\n",
              "      background-color: #3B4455;\n",
              "      fill: #D2E3FC;\n",
              "    }\n",
              "\n",
              "    [theme=dark] .colab-df-convert:hover {\n",
              "      background-color: #434B5C;\n",
              "      box-shadow: 0px 1px 3px 1px rgba(0, 0, 0, 0.15);\n",
              "      filter: drop-shadow(0px 1px 2px rgba(0, 0, 0, 0.3));\n",
              "      fill: #FFFFFF;\n",
              "    }\n",
              "  </style>\n",
              "\n",
              "    <script>\n",
              "      const buttonEl =\n",
              "        document.querySelector('#df-fa7674b9-1768-46ba-a75e-272e5884f70f button.colab-df-convert');\n",
              "      buttonEl.style.display =\n",
              "        google.colab.kernel.accessAllowed ? 'block' : 'none';\n",
              "\n",
              "      async function convertToInteractive(key) {\n",
              "        const element = document.querySelector('#df-fa7674b9-1768-46ba-a75e-272e5884f70f');\n",
              "        const dataTable =\n",
              "          await google.colab.kernel.invokeFunction('convertToInteractive',\n",
              "                                                    [key], {});\n",
              "        if (!dataTable) return;\n",
              "\n",
              "        const docLinkHtml = 'Like what you see? Visit the ' +\n",
              "          '<a target=\"_blank\" href=https://colab.research.google.com/notebooks/data_table.ipynb>data table notebook</a>'\n",
              "          + ' to learn more about interactive tables.';\n",
              "        element.innerHTML = '';\n",
              "        dataTable['output_type'] = 'display_data';\n",
              "        await google.colab.output.renderOutput(dataTable, element);\n",
              "        const docLink = document.createElement('div');\n",
              "        docLink.innerHTML = docLinkHtml;\n",
              "        element.appendChild(docLink);\n",
              "      }\n",
              "    </script>\n",
              "  </div>\n",
              "\n",
              "\n",
              "<div id=\"df-47883383-e24b-4f0b-a455-8765d1e1f9aa\">\n",
              "  <button class=\"colab-df-quickchart\" onclick=\"quickchart('df-47883383-e24b-4f0b-a455-8765d1e1f9aa')\"\n",
              "            title=\"Suggest charts\"\n",
              "            style=\"display:none;\">\n",
              "\n",
              "<svg xmlns=\"http://www.w3.org/2000/svg\" height=\"24px\"viewBox=\"0 0 24 24\"\n",
              "     width=\"24px\">\n",
              "    <g>\n",
              "        <path d=\"M19 3H5c-1.1 0-2 .9-2 2v14c0 1.1.9 2 2 2h14c1.1 0 2-.9 2-2V5c0-1.1-.9-2-2-2zM9 17H7v-7h2v7zm4 0h-2V7h2v10zm4 0h-2v-4h2v4z\"/>\n",
              "    </g>\n",
              "</svg>\n",
              "  </button>\n",
              "\n",
              "<style>\n",
              "  .colab-df-quickchart {\n",
              "      --bg-color: #E8F0FE;\n",
              "      --fill-color: #1967D2;\n",
              "      --hover-bg-color: #E2EBFA;\n",
              "      --hover-fill-color: #174EA6;\n",
              "      --disabled-fill-color: #AAA;\n",
              "      --disabled-bg-color: #DDD;\n",
              "  }\n",
              "\n",
              "  [theme=dark] .colab-df-quickchart {\n",
              "      --bg-color: #3B4455;\n",
              "      --fill-color: #D2E3FC;\n",
              "      --hover-bg-color: #434B5C;\n",
              "      --hover-fill-color: #FFFFFF;\n",
              "      --disabled-bg-color: #3B4455;\n",
              "      --disabled-fill-color: #666;\n",
              "  }\n",
              "\n",
              "  .colab-df-quickchart {\n",
              "    background-color: var(--bg-color);\n",
              "    border: none;\n",
              "    border-radius: 50%;\n",
              "    cursor: pointer;\n",
              "    display: none;\n",
              "    fill: var(--fill-color);\n",
              "    height: 32px;\n",
              "    padding: 0;\n",
              "    width: 32px;\n",
              "  }\n",
              "\n",
              "  .colab-df-quickchart:hover {\n",
              "    background-color: var(--hover-bg-color);\n",
              "    box-shadow: 0 1px 2px rgba(60, 64, 67, 0.3), 0 1px 3px 1px rgba(60, 64, 67, 0.15);\n",
              "    fill: var(--button-hover-fill-color);\n",
              "  }\n",
              "\n",
              "  .colab-df-quickchart-complete:disabled,\n",
              "  .colab-df-quickchart-complete:disabled:hover {\n",
              "    background-color: var(--disabled-bg-color);\n",
              "    fill: var(--disabled-fill-color);\n",
              "    box-shadow: none;\n",
              "  }\n",
              "\n",
              "  .colab-df-spinner {\n",
              "    border: 2px solid var(--fill-color);\n",
              "    border-color: transparent;\n",
              "    border-bottom-color: var(--fill-color);\n",
              "    animation:\n",
              "      spin 1s steps(1) infinite;\n",
              "  }\n",
              "\n",
              "  @keyframes spin {\n",
              "    0% {\n",
              "      border-color: transparent;\n",
              "      border-bottom-color: var(--fill-color);\n",
              "      border-left-color: var(--fill-color);\n",
              "    }\n",
              "    20% {\n",
              "      border-color: transparent;\n",
              "      border-left-color: var(--fill-color);\n",
              "      border-top-color: var(--fill-color);\n",
              "    }\n",
              "    30% {\n",
              "      border-color: transparent;\n",
              "      border-left-color: var(--fill-color);\n",
              "      border-top-color: var(--fill-color);\n",
              "      border-right-color: var(--fill-color);\n",
              "    }\n",
              "    40% {\n",
              "      border-color: transparent;\n",
              "      border-right-color: var(--fill-color);\n",
              "      border-top-color: var(--fill-color);\n",
              "    }\n",
              "    60% {\n",
              "      border-color: transparent;\n",
              "      border-right-color: var(--fill-color);\n",
              "    }\n",
              "    80% {\n",
              "      border-color: transparent;\n",
              "      border-right-color: var(--fill-color);\n",
              "      border-bottom-color: var(--fill-color);\n",
              "    }\n",
              "    90% {\n",
              "      border-color: transparent;\n",
              "      border-bottom-color: var(--fill-color);\n",
              "    }\n",
              "  }\n",
              "</style>\n",
              "\n",
              "  <script>\n",
              "    async function quickchart(key) {\n",
              "      const quickchartButtonEl =\n",
              "        document.querySelector('#' + key + ' button');\n",
              "      quickchartButtonEl.disabled = true;  // To prevent multiple clicks.\n",
              "      quickchartButtonEl.classList.add('colab-df-spinner');\n",
              "      try {\n",
              "        const charts = await google.colab.kernel.invokeFunction(\n",
              "            'suggestCharts', [key], {});\n",
              "      } catch (error) {\n",
              "        console.error('Error during call to suggestCharts:', error);\n",
              "      }\n",
              "      quickchartButtonEl.classList.remove('colab-df-spinner');\n",
              "      quickchartButtonEl.classList.add('colab-df-quickchart-complete');\n",
              "    }\n",
              "    (() => {\n",
              "      let quickchartButtonEl =\n",
              "        document.querySelector('#df-47883383-e24b-4f0b-a455-8765d1e1f9aa button');\n",
              "      quickchartButtonEl.style.display =\n",
              "        google.colab.kernel.accessAllowed ? 'block' : 'none';\n",
              "    })();\n",
              "  </script>\n",
              "</div>\n",
              "\n",
              "    </div>\n",
              "  </div>\n"
            ],
            "text/plain": [
              "      Company   TypeName    Inches ScreenResolution       Cpu       Ram  \\\n",
              "index                                                                     \n",
              "0       APPLE  ULTRABOOK -1.204407        2560x1600  0.002426 -0.075195   \n",
              "1       APPLE  ULTRABOOK -1.204407         1440x900 -0.985431 -0.075195   \n",
              "2          HP   NOTEBOOK  0.408772        1920x1080  0.397569 -0.075195   \n",
              "3       APPLE  ULTRABOOK  0.268495        2880x1800  0.792712  1.498767   \n",
              "4       APPLE  ULTRABOOK -1.204407        2560x1600  1.582997 -0.075195   \n",
              "5        ACER   NOTEBOOK  0.408772         1366x768  1.385426 -0.862176   \n",
              "6       APPLE  ULTRABOOK  0.268495        2880x1800 -0.195145  1.498767   \n",
              "7       APPLE  ULTRABOOK -1.204407         1440x900 -0.985431 -0.075195   \n",
              "8        ASUS  ULTRABOOK -0.713439        1920x1080 -0.985431  1.498767   \n",
              "9        ACER  ULTRABOOK -0.713439        1920x1080 -1.380574 -0.075195   \n",
              "\n",
              "         Memory                           Gpu       OpSys    Weight     Price  \n",
              "index                                                                          \n",
              "0     -1.026162  Intel Iris Plus Graphics 640       MACOS -1.005283  0.309132  \n",
              "1     -1.026162        Intel HD Graphics 6000       MACOS -1.050381 -0.321646  \n",
              "2     -0.759244         Intel HD Graphics 620       NO OS -0.268684 -0.785251  \n",
              "3     -0.225410            AMD Radeon Pro 455       MACOS -0.313782  2.023301  \n",
              "4     -0.759244  Intel Iris Plus Graphics 650       MACOS -1.005283  0.973055  \n",
              "5     -0.250433                 AMD Radeon R5  WINDOWS 10  0.092099 -1.035702  \n",
              "6     -0.759244       Intel Iris Pro Graphics    MAC OS X  0.001904  1.454449  \n",
              "7     -0.759244        Intel HD Graphics 6000       MACOS -1.050381  0.050109  \n",
              "8     -0.225410          Nvidia GeForce MX150  WINDOWS 10 -1.110512  0.531403  \n",
              "9     -0.759244        Intel UHD Graphics 620  WINDOWS 10 -0.659533 -0.506178  "
            ]
          },
          "execution_count": 69,
          "metadata": {},
          "output_type": "execute_result"
        }
      ],
      "source": [
        "df.head(10)"
      ]
    },
    {
      "cell_type": "code",
      "execution_count": 70,
      "metadata": {
        "id": "oNZXfleeaDwv"
      },
      "outputs": [],
      "source": [
        "df.to_csv(\"Clean_and_Scale_laptop_data.csv\", index=False)"
      ]
    }
  ],
  "metadata": {
    "colab": {
      "gpuType": "T4",
      "provenance": []
    },
    "kernelspec": {
      "display_name": "myvenv",
      "language": "python",
      "name": "myvenv"
    },
    "language_info": {
      "codemirror_mode": {
        "name": "ipython",
        "version": 3
      },
      "file_extension": ".py",
      "mimetype": "text/x-python",
      "name": "python",
      "nbconvert_exporter": "python",
      "pygments_lexer": "ipython3",
      "version": "3.11.9"
    }
  },
  "nbformat": 4,
  "nbformat_minor": 0
}
